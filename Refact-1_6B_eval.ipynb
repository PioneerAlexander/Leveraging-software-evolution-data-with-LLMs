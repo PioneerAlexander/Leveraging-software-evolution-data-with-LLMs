{
 "cells": [
  {
   "cell_type": "code",
   "execution_count": 2,
   "outputs": [
    {
     "name": "stdout",
     "output_type": "stream",
     "text": [
      "Requirement already satisfied: datasets in ./venv/lib/python3.9/site-packages (from -r requirements.txt (line 1)) (2.16.0)\r\n",
      "Requirement already satisfied: transformers in ./venv/lib/python3.9/site-packages (from -r requirements.txt (line 2)) (4.36.2)\r\n",
      "Collecting torch==2.1.0\r\n",
      "  Downloading torch-2.1.0-cp39-cp39-manylinux1_x86_64.whl (670.2 MB)\r\n",
      "\u001B[2K     \u001B[90m━━━━━━━━━━━━━━━━━━━━━━━━━━━━━━━━━━━━━━━\u001B[0m \u001B[32m670.2/670.2 MB\u001B[0m \u001B[31m2.4 MB/s\u001B[0m eta \u001B[36m0:00:00\u001B[0m00:01\u001B[0m00:02\u001B[0m\r\n",
      "\u001B[?25hCollecting tensorflow==2.15.0\r\n",
      "  Downloading tensorflow-2.15.0-cp39-cp39-manylinux_2_17_x86_64.manylinux2014_x86_64.whl (475.2 MB)\r\n",
      "\u001B[2K     \u001B[90m━━━━━━━━━━━━━━━━━━━━━━━━━━━━━━━━━━━━━━━\u001B[0m \u001B[32m475.2/475.2 MB\u001B[0m \u001B[31m3.2 MB/s\u001B[0m eta \u001B[36m0:00:00\u001B[0m00:01\u001B[0m00:02\u001B[0m\r\n",
      "\u001B[?25hRequirement already satisfied: typing-extensions in ./venv/lib/python3.9/site-packages (from torch==2.1.0->-r requirements.txt (line 3)) (4.9.0)\r\n",
      "Collecting nvidia-curand-cu12==10.3.2.106\r\n",
      "  Using cached nvidia_curand_cu12-10.3.2.106-py3-none-manylinux1_x86_64.whl (56.5 MB)\r\n",
      "Collecting triton==2.1.0\r\n",
      "  Using cached triton-2.1.0-0-cp39-cp39-manylinux2014_x86_64.manylinux_2_17_x86_64.whl (89.3 MB)\r\n",
      "Collecting nvidia-cudnn-cu12==8.9.2.26\r\n",
      "  Using cached nvidia_cudnn_cu12-8.9.2.26-py3-none-manylinux1_x86_64.whl (731.7 MB)\r\n",
      "Collecting nvidia-nccl-cu12==2.18.1\r\n",
      "  Using cached nvidia_nccl_cu12-2.18.1-py3-none-manylinux1_x86_64.whl (209.8 MB)\r\n",
      "Collecting nvidia-cuda-cupti-cu12==12.1.105\r\n",
      "  Using cached nvidia_cuda_cupti_cu12-12.1.105-py3-none-manylinux1_x86_64.whl (14.1 MB)\r\n",
      "Requirement already satisfied: filelock in ./venv/lib/python3.9/site-packages (from torch==2.1.0->-r requirements.txt (line 3)) (3.13.1)\r\n",
      "Collecting nvidia-cublas-cu12==12.1.3.1\r\n",
      "  Using cached nvidia_cublas_cu12-12.1.3.1-py3-none-manylinux1_x86_64.whl (410.6 MB)\r\n",
      "Requirement already satisfied: fsspec in ./venv/lib/python3.9/site-packages (from torch==2.1.0->-r requirements.txt (line 3)) (2023.10.0)\r\n",
      "Collecting sympy\r\n",
      "  Using cached sympy-1.12-py3-none-any.whl (5.7 MB)\r\n",
      "Collecting nvidia-cuda-nvrtc-cu12==12.1.105\r\n",
      "  Using cached nvidia_cuda_nvrtc_cu12-12.1.105-py3-none-manylinux1_x86_64.whl (23.7 MB)\r\n",
      "Collecting nvidia-cufft-cu12==11.0.2.54\r\n",
      "  Using cached nvidia_cufft_cu12-11.0.2.54-py3-none-manylinux1_x86_64.whl (121.6 MB)\r\n",
      "Collecting nvidia-cusolver-cu12==11.4.5.107\r\n",
      "  Using cached nvidia_cusolver_cu12-11.4.5.107-py3-none-manylinux1_x86_64.whl (124.2 MB)\r\n",
      "Collecting nvidia-cusparse-cu12==12.1.0.106\r\n",
      "  Using cached nvidia_cusparse_cu12-12.1.0.106-py3-none-manylinux1_x86_64.whl (196.0 MB)\r\n",
      "Collecting networkx\r\n",
      "  Using cached networkx-3.2.1-py3-none-any.whl (1.6 MB)\r\n",
      "Collecting nvidia-nvtx-cu12==12.1.105\r\n",
      "  Using cached nvidia_nvtx_cu12-12.1.105-py3-none-manylinux1_x86_64.whl (99 kB)\r\n",
      "Requirement already satisfied: jinja2 in ./venv/lib/python3.9/site-packages (from torch==2.1.0->-r requirements.txt (line 3)) (3.1.2)\r\n",
      "Collecting nvidia-cuda-runtime-cu12==12.1.105\r\n",
      "  Using cached nvidia_cuda_runtime_cu12-12.1.105-py3-none-manylinux1_x86_64.whl (823 kB)\r\n",
      "Collecting grpcio<2.0,>=1.24.3\r\n",
      "  Using cached grpcio-1.60.0-cp39-cp39-manylinux_2_17_x86_64.manylinux2014_x86_64.whl (5.4 MB)\r\n",
      "Collecting keras<2.16,>=2.15.0\r\n",
      "  Using cached keras-2.15.0-py3-none-any.whl (1.7 MB)\r\n",
      "Requirement already satisfied: numpy<2.0.0,>=1.23.5 in ./venv/lib/python3.9/site-packages (from tensorflow==2.15.0->-r requirements.txt (line 4)) (1.26.2)\r\n",
      "Requirement already satisfied: packaging in ./venv/lib/python3.9/site-packages (from tensorflow==2.15.0->-r requirements.txt (line 4)) (23.2)\r\n",
      "Requirement already satisfied: setuptools in ./venv/lib/python3.9/site-packages (from tensorflow==2.15.0->-r requirements.txt (line 4)) (65.5.1)\r\n",
      "Collecting termcolor>=1.1.0\r\n",
      "  Using cached termcolor-2.4.0-py3-none-any.whl (7.7 kB)\r\n",
      "Collecting flatbuffers>=23.5.26\r\n",
      "  Using cached flatbuffers-23.5.26-py2.py3-none-any.whl (26 kB)\r\n",
      "Collecting tensorflow-estimator<2.16,>=2.15.0\r\n",
      "  Using cached tensorflow_estimator-2.15.0-py2.py3-none-any.whl (441 kB)\r\n",
      "Collecting libclang>=13.0.0\r\n",
      "  Using cached libclang-16.0.6-py2.py3-none-manylinux2010_x86_64.whl (22.9 MB)\r\n",
      "Collecting astunparse>=1.6.0\r\n",
      "  Using cached astunparse-1.6.3-py2.py3-none-any.whl (12 kB)\r\n",
      "Collecting h5py>=2.9.0\r\n",
      "  Using cached h5py-3.10.0-cp39-cp39-manylinux_2_17_x86_64.manylinux2014_x86_64.whl (4.8 MB)\r\n",
      "Collecting protobuf!=4.21.0,!=4.21.1,!=4.21.2,!=4.21.3,!=4.21.4,!=4.21.5,<5.0.0dev,>=3.20.3\r\n",
      "  Using cached protobuf-4.25.1-cp37-abi3-manylinux2014_x86_64.whl (294 kB)\r\n",
      "Collecting tensorboard<2.16,>=2.15\r\n",
      "  Using cached tensorboard-2.15.1-py3-none-any.whl (5.5 MB)\r\n",
      "Collecting tensorflow-io-gcs-filesystem>=0.23.1\r\n",
      "  Downloading tensorflow_io_gcs_filesystem-0.35.0-cp39-cp39-manylinux_2_17_x86_64.manylinux2014_x86_64.whl (3.2 MB)\r\n",
      "\u001B[2K     \u001B[90m━━━━━━━━━━━━━━━━━━━━━━━━━━━━━━━━━━━━━━━━\u001B[0m \u001B[32m3.2/3.2 MB\u001B[0m \u001B[31m10.8 MB/s\u001B[0m eta \u001B[36m0:00:00\u001B[0m00:01\u001B[0m00:01\u001B[0m\r\n",
      "\u001B[?25hCollecting gast!=0.5.0,!=0.5.1,!=0.5.2,>=0.2.1\r\n",
      "  Using cached gast-0.5.4-py3-none-any.whl (19 kB)\r\n",
      "Collecting ml-dtypes~=0.2.0\r\n",
      "  Using cached ml_dtypes-0.2.0-cp39-cp39-manylinux_2_17_x86_64.manylinux2014_x86_64.whl (1.0 MB)\r\n",
      "Collecting absl-py>=1.0.0\r\n",
      "  Using cached absl_py-2.0.0-py3-none-any.whl (130 kB)\r\n",
      "Collecting wrapt<1.15,>=1.11.0\r\n",
      "  Using cached wrapt-1.14.1-cp39-cp39-manylinux_2_5_x86_64.manylinux1_x86_64.manylinux_2_17_x86_64.manylinux2014_x86_64.whl (77 kB)\r\n",
      "Collecting opt-einsum>=2.3.2\r\n",
      "  Using cached opt_einsum-3.3.0-py3-none-any.whl (65 kB)\r\n",
      "Requirement already satisfied: six>=1.12.0 in ./venv/lib/python3.9/site-packages (from tensorflow==2.15.0->-r requirements.txt (line 4)) (1.16.0)\r\n",
      "Collecting google-pasta>=0.1.1\r\n",
      "  Using cached google_pasta-0.2.0-py3-none-any.whl (57 kB)\r\n",
      "Collecting nvidia-nvjitlink-cu12\r\n",
      "  Using cached nvidia_nvjitlink_cu12-12.3.101-py3-none-manylinux1_x86_64.whl (20.5 MB)\r\n",
      "Requirement already satisfied: pyarrow-hotfix in ./venv/lib/python3.9/site-packages (from datasets->-r requirements.txt (line 1)) (0.6)\r\n",
      "Requirement already satisfied: pyarrow>=8.0.0 in ./venv/lib/python3.9/site-packages (from datasets->-r requirements.txt (line 1)) (14.0.2)\r\n",
      "Requirement already satisfied: tqdm>=4.62.1 in ./venv/lib/python3.9/site-packages (from datasets->-r requirements.txt (line 1)) (4.66.1)\r\n",
      "Requirement already satisfied: xxhash in ./venv/lib/python3.9/site-packages (from datasets->-r requirements.txt (line 1)) (3.4.1)\r\n",
      "Requirement already satisfied: aiohttp in ./venv/lib/python3.9/site-packages (from datasets->-r requirements.txt (line 1)) (3.9.1)\r\n",
      "Requirement already satisfied: pyyaml>=5.1 in ./venv/lib/python3.9/site-packages (from datasets->-r requirements.txt (line 1)) (6.0.1)\r\n",
      "Requirement already satisfied: dill<0.3.8,>=0.3.0 in ./venv/lib/python3.9/site-packages (from datasets->-r requirements.txt (line 1)) (0.3.7)\r\n",
      "Requirement already satisfied: requests>=2.19.0 in ./venv/lib/python3.9/site-packages (from datasets->-r requirements.txt (line 1)) (2.31.0)\r\n",
      "Requirement already satisfied: pandas in ./venv/lib/python3.9/site-packages (from datasets->-r requirements.txt (line 1)) (2.1.4)\r\n",
      "Requirement already satisfied: multiprocess in ./venv/lib/python3.9/site-packages (from datasets->-r requirements.txt (line 1)) (0.70.15)\r\n",
      "Requirement already satisfied: huggingface-hub>=0.19.4 in ./venv/lib/python3.9/site-packages (from datasets->-r requirements.txt (line 1)) (0.20.1)\r\n",
      "Requirement already satisfied: regex!=2019.12.17 in ./venv/lib/python3.9/site-packages (from transformers->-r requirements.txt (line 2)) (2023.12.25)\r\n",
      "Requirement already satisfied: tokenizers<0.19,>=0.14 in ./venv/lib/python3.9/site-packages (from transformers->-r requirements.txt (line 2)) (0.15.0)\r\n",
      "Requirement already satisfied: safetensors>=0.3.1 in ./venv/lib/python3.9/site-packages (from transformers->-r requirements.txt (line 2)) (0.4.1)\r\n",
      "Requirement already satisfied: wheel<1.0,>=0.23.0 in ./venv/lib/python3.9/site-packages (from astunparse>=1.6.0->tensorflow==2.15.0->-r requirements.txt (line 4)) (0.38.4)\r\n",
      "Requirement already satisfied: multidict<7.0,>=4.5 in ./venv/lib/python3.9/site-packages (from aiohttp->datasets->-r requirements.txt (line 1)) (6.0.4)\r\n",
      "Requirement already satisfied: aiosignal>=1.1.2 in ./venv/lib/python3.9/site-packages (from aiohttp->datasets->-r requirements.txt (line 1)) (1.3.1)\r\n",
      "Requirement already satisfied: yarl<2.0,>=1.0 in ./venv/lib/python3.9/site-packages (from aiohttp->datasets->-r requirements.txt (line 1)) (1.9.4)\r\n",
      "Requirement already satisfied: frozenlist>=1.1.1 in ./venv/lib/python3.9/site-packages (from aiohttp->datasets->-r requirements.txt (line 1)) (1.4.1)\r\n",
      "Requirement already satisfied: async-timeout<5.0,>=4.0 in ./venv/lib/python3.9/site-packages (from aiohttp->datasets->-r requirements.txt (line 1)) (4.0.3)\r\n",
      "Requirement already satisfied: attrs>=17.3.0 in ./venv/lib/python3.9/site-packages (from aiohttp->datasets->-r requirements.txt (line 1)) (23.1.0)\r\n",
      "Requirement already satisfied: certifi>=2017.4.17 in ./venv/lib/python3.9/site-packages (from requests>=2.19.0->datasets->-r requirements.txt (line 1)) (2023.11.17)\r\n",
      "Requirement already satisfied: idna<4,>=2.5 in ./venv/lib/python3.9/site-packages (from requests>=2.19.0->datasets->-r requirements.txt (line 1)) (3.6)\r\n",
      "Requirement already satisfied: charset-normalizer<4,>=2 in ./venv/lib/python3.9/site-packages (from requests>=2.19.0->datasets->-r requirements.txt (line 1)) (3.3.2)\r\n",
      "Requirement already satisfied: urllib3<3,>=1.21.1 in ./venv/lib/python3.9/site-packages (from requests>=2.19.0->datasets->-r requirements.txt (line 1)) (2.1.0)\r\n",
      "Collecting werkzeug>=1.0.1\r\n",
      "  Using cached werkzeug-3.0.1-py3-none-any.whl (226 kB)\r\n",
      "Collecting tensorboard-data-server<0.8.0,>=0.7.0\r\n",
      "  Using cached tensorboard_data_server-0.7.2-py3-none-manylinux_2_31_x86_64.whl (6.6 MB)\r\n",
      "Collecting protobuf!=4.21.0,!=4.21.1,!=4.21.2,!=4.21.3,!=4.21.4,!=4.21.5,<5.0.0dev,>=3.20.3\r\n",
      "  Using cached protobuf-4.23.4-cp37-abi3-manylinux2014_x86_64.whl (304 kB)\r\n",
      "Collecting google-auth<3,>=1.6.3\r\n",
      "  Using cached google_auth-2.25.2-py2.py3-none-any.whl (184 kB)\r\n",
      "Collecting markdown>=2.6.8\r\n",
      "  Using cached Markdown-3.5.1-py3-none-any.whl (102 kB)\r\n",
      "Collecting google-auth-oauthlib<2,>=0.5\r\n",
      "  Using cached google_auth_oauthlib-1.2.0-py2.py3-none-any.whl (24 kB)\r\n",
      "Requirement already satisfied: MarkupSafe>=2.0 in ./venv/lib/python3.9/site-packages (from jinja2->torch==2.1.0->-r requirements.txt (line 3)) (2.1.3)\r\n",
      "Requirement already satisfied: pytz>=2020.1 in ./venv/lib/python3.9/site-packages (from pandas->datasets->-r requirements.txt (line 1)) (2023.3.post1)\r\n",
      "Requirement already satisfied: tzdata>=2022.1 in ./venv/lib/python3.9/site-packages (from pandas->datasets->-r requirements.txt (line 1)) (2023.3)\r\n",
      "Requirement already satisfied: python-dateutil>=2.8.2 in ./venv/lib/python3.9/site-packages (from pandas->datasets->-r requirements.txt (line 1)) (2.8.2)\r\n",
      "Collecting mpmath>=0.19\r\n",
      "  Using cached mpmath-1.3.0-py3-none-any.whl (536 kB)\r\n",
      "Collecting cachetools<6.0,>=2.0.0\r\n",
      "  Using cached cachetools-5.3.2-py3-none-any.whl (9.3 kB)\r\n",
      "Collecting pyasn1-modules>=0.2.1\r\n",
      "  Using cached pyasn1_modules-0.3.0-py2.py3-none-any.whl (181 kB)\r\n",
      "Collecting rsa<5,>=3.1.4\r\n",
      "  Using cached rsa-4.9-py3-none-any.whl (34 kB)\r\n",
      "Collecting requests-oauthlib>=0.7.0\r\n",
      "  Using cached requests_oauthlib-1.3.1-py2.py3-none-any.whl (23 kB)\r\n",
      "Requirement already satisfied: importlib-metadata>=4.4 in ./venv/lib/python3.9/site-packages (from markdown>=2.6.8->tensorboard<2.16,>=2.15->tensorflow==2.15.0->-r requirements.txt (line 4)) (7.0.1)\r\n",
      "Requirement already satisfied: zipp>=0.5 in ./venv/lib/python3.9/site-packages (from importlib-metadata>=4.4->markdown>=2.6.8->tensorboard<2.16,>=2.15->tensorflow==2.15.0->-r requirements.txt (line 4)) (3.17.0)\r\n",
      "Collecting pyasn1<0.6.0,>=0.4.6\r\n",
      "  Using cached pyasn1-0.5.1-py2.py3-none-any.whl (84 kB)\r\n",
      "Collecting oauthlib>=3.0.0\r\n",
      "  Using cached oauthlib-3.2.2-py3-none-any.whl (151 kB)\r\n",
      "Installing collected packages: mpmath, libclang, flatbuffers, wrapt, werkzeug, triton, termcolor, tensorflow-io-gcs-filesystem, tensorflow-estimator, tensorboard-data-server, sympy, pyasn1, protobuf, opt-einsum, oauthlib, nvidia-nvtx-cu12, nvidia-nvjitlink-cu12, nvidia-nccl-cu12, nvidia-curand-cu12, nvidia-cufft-cu12, nvidia-cuda-runtime-cu12, nvidia-cuda-nvrtc-cu12, nvidia-cuda-cupti-cu12, nvidia-cublas-cu12, networkx, ml-dtypes, keras, h5py, grpcio, google-pasta, gast, cachetools, astunparse, absl-py, rsa, requests-oauthlib, pyasn1-modules, nvidia-cusparse-cu12, nvidia-cudnn-cu12, markdown, nvidia-cusolver-cu12, google-auth, torch, google-auth-oauthlib, tensorboard, tensorflow\r\n",
      "Successfully installed absl-py-2.0.0 astunparse-1.6.3 cachetools-5.3.2 flatbuffers-23.5.26 gast-0.5.4 google-auth-2.25.2 google-auth-oauthlib-1.2.0 google-pasta-0.2.0 grpcio-1.60.0 h5py-3.10.0 keras-2.15.0 libclang-16.0.6 markdown-3.5.1 ml-dtypes-0.2.0 mpmath-1.3.0 networkx-3.2.1 nvidia-cublas-cu12-12.1.3.1 nvidia-cuda-cupti-cu12-12.1.105 nvidia-cuda-nvrtc-cu12-12.1.105 nvidia-cuda-runtime-cu12-12.1.105 nvidia-cudnn-cu12-8.9.2.26 nvidia-cufft-cu12-11.0.2.54 nvidia-curand-cu12-10.3.2.106 nvidia-cusolver-cu12-11.4.5.107 nvidia-cusparse-cu12-12.1.0.106 nvidia-nccl-cu12-2.18.1 nvidia-nvjitlink-cu12-12.3.101 nvidia-nvtx-cu12-12.1.105 oauthlib-3.2.2 opt-einsum-3.3.0 protobuf-4.23.4 pyasn1-0.5.1 pyasn1-modules-0.3.0 requests-oauthlib-1.3.1 rsa-4.9 sympy-1.12 tensorboard-2.15.1 tensorboard-data-server-0.7.2 tensorflow-2.15.0 tensorflow-estimator-2.15.0 tensorflow-io-gcs-filesystem-0.35.0 termcolor-2.4.0 torch-2.1.0 triton-2.1.0 werkzeug-3.0.1 wrapt-1.14.1\r\n",
      "\r\n",
      "\u001B[1m[\u001B[0m\u001B[34;49mnotice\u001B[0m\u001B[1;39;49m]\u001B[0m\u001B[39;49m A new release of pip available: \u001B[0m\u001B[31;49m22.3.1\u001B[0m\u001B[39;49m -> \u001B[0m\u001B[32;49m23.3.2\u001B[0m\r\n",
      "\u001B[1m[\u001B[0m\u001B[34;49mnotice\u001B[0m\u001B[1;39;49m]\u001B[0m\u001B[39;49m To update, run: \u001B[0m\u001B[32;49mpip install --upgrade pip\u001B[0m\r\n"
     ]
    }
   ],
   "source": [
    "!pip install -r requirements.txt"
   ],
   "metadata": {
    "collapsed": false,
    "ExecuteTime": {
     "end_time": "2023-12-27T04:51:35.604136408Z",
     "start_time": "2023-12-27T04:47:32.188729676Z"
    }
   },
   "id": "af566ae1a28e48ca"
  },
  {
   "cell_type": "code",
   "execution_count": 3,
   "id": "initial_id",
   "metadata": {
    "collapsed": true,
    "ExecuteTime": {
     "end_time": "2023-12-27T04:51:44.660520929Z",
     "start_time": "2023-12-27T04:51:39.159276854Z"
    }
   },
   "outputs": [],
   "source": [
    "from datasets import load_dataset\n",
    "ds = load_dataset(\"bigcode/humanevalpack\", \"python\")['test']"
   ]
  },
  {
   "cell_type": "code",
   "execution_count": null,
   "outputs": [
    {
     "data": {
      "text/plain": "config.json:   0%|          | 0.00/681 [00:00<?, ?B/s]",
      "application/vnd.jupyter.widget-view+json": {
       "version_major": 2,
       "version_minor": 0,
       "model_id": "abed2d632fa54f788caf39706c0eb3ce"
      }
     },
     "metadata": {},
     "output_type": "display_data"
    },
    {
     "data": {
      "text/plain": "configuration_gpt_refact.py:   0%|          | 0.00/1.89k [00:00<?, ?B/s]",
      "application/vnd.jupyter.widget-view+json": {
       "version_major": 2,
       "version_minor": 0,
       "model_id": "b0d6b8628f3844969637d310d1bd2bfc"
      }
     },
     "metadata": {},
     "output_type": "display_data"
    },
    {
     "name": "stderr",
     "output_type": "stream",
     "text": [
      "A new version of the following files was downloaded from https://huggingface.co/smallcloudai/Refact-1_6B-fim:\n",
      "- configuration_gpt_refact.py\n",
      ". Make sure to double-check they do not contain any added malicious code. To avoid downloading new versions of the code file, you can pin a revision.\n"
     ]
    },
    {
     "data": {
      "text/plain": "modeling_gpt_refact.py:   0%|          | 0.00/24.9k [00:00<?, ?B/s]",
      "application/vnd.jupyter.widget-view+json": {
       "version_major": 2,
       "version_minor": 0,
       "model_id": "175254c5825948bdadf443022a0539e9"
      }
     },
     "metadata": {},
     "output_type": "display_data"
    },
    {
     "name": "stderr",
     "output_type": "stream",
     "text": [
      "A new version of the following files was downloaded from https://huggingface.co/smallcloudai/Refact-1_6B-fim:\n",
      "- modeling_gpt_refact.py\n",
      ". Make sure to double-check they do not contain any added malicious code. To avoid downloading new versions of the code file, you can pin a revision.\n"
     ]
    },
    {
     "data": {
      "text/plain": "model.safetensors:   0%|          | 0.00/3.17G [00:00<?, ?B/s]",
      "application/vnd.jupyter.widget-view+json": {
       "version_major": 2,
       "version_minor": 0,
       "model_id": "0d951d29187b40689a20495636c19ac7"
      }
     },
     "metadata": {},
     "output_type": "display_data"
    }
   ],
   "source": [
    "# Load model directly\n",
    "from transformers import AutoModelForCausalLM, AutoTokenizer\n",
    "\n",
    "checkpoint = \"smallcloudai/Refact-1_6B-fim\"\n",
    "device = \"cuda\" # for GPU usage or \"cpu\" for CPU usage\n",
    "\n",
    "tokenizer = AutoTokenizer.from_pretrained(checkpoint)\n",
    "model = AutoModelForCausalLM.from_pretrained(checkpoint, trust_remote_code=True).to(device)"
   ],
   "metadata": {
    "collapsed": false,
    "is_executing": true,
    "ExecuteTime": {
     "start_time": "2023-12-27T04:51:46.025906798Z"
    }
   },
   "id": "9372dff8fff5b7dc"
  }
 ],
 "metadata": {
  "kernelspec": {
   "display_name": "Python 3",
   "language": "python",
   "name": "python3"
  },
  "language_info": {
   "codemirror_mode": {
    "name": "ipython",
    "version": 2
   },
   "file_extension": ".py",
   "mimetype": "text/x-python",
   "name": "python",
   "nbconvert_exporter": "python",
   "pygments_lexer": "ipython2",
   "version": "2.7.6"
  }
 },
 "nbformat": 4,
 "nbformat_minor": 5
}
