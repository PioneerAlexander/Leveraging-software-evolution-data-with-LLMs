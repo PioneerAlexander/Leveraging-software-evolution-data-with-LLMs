{
  "nbformat": 4,
  "nbformat_minor": 0,
  "metadata": {
    "colab": {
      "provenance": [],
      "authorship_tag": "ABX9TyMpJhztGpDX0amCRVciqaht",
      "include_colab_link": true
    },
    "kernelspec": {
      "name": "python3",
      "display_name": "Python 3"
    },
    "language_info": {
      "name": "python"
    },
    "widgets": {
      "application/vnd.jupyter.widget-state+json": {
        "f73641e2666c42bbb2127fac391d488d": {
          "model_module": "@jupyter-widgets/controls",
          "model_name": "HBoxModel",
          "model_module_version": "1.5.0",
          "state": {
            "_dom_classes": [],
            "_model_module": "@jupyter-widgets/controls",
            "_model_module_version": "1.5.0",
            "_model_name": "HBoxModel",
            "_view_count": null,
            "_view_module": "@jupyter-widgets/controls",
            "_view_module_version": "1.5.0",
            "_view_name": "HBoxView",
            "box_style": "",
            "children": [
              "IPY_MODEL_3e33d16773094df89a3d5c943025a88a",
              "IPY_MODEL_6f8b8647236149d7839a3d68571cae45",
              "IPY_MODEL_78e60f14d1d34554a41b73f47147be21"
            ],
            "layout": "IPY_MODEL_f759f6e3b219468c852f4bc153f7f995"
          }
        },
        "3e33d16773094df89a3d5c943025a88a": {
          "model_module": "@jupyter-widgets/controls",
          "model_name": "HTMLModel",
          "model_module_version": "1.5.0",
          "state": {
            "_dom_classes": [],
            "_model_module": "@jupyter-widgets/controls",
            "_model_module_version": "1.5.0",
            "_model_name": "HTMLModel",
            "_view_count": null,
            "_view_module": "@jupyter-widgets/controls",
            "_view_module_version": "1.5.0",
            "_view_name": "HTMLView",
            "description": "",
            "description_tooltip": null,
            "layout": "IPY_MODEL_a99a694da0334ac6964f597261d59122",
            "placeholder": "​",
            "style": "IPY_MODEL_01585f7763e0495794b98e64c79d0e20",
            "value": "Downloading data: 100%"
          }
        },
        "6f8b8647236149d7839a3d68571cae45": {
          "model_module": "@jupyter-widgets/controls",
          "model_name": "FloatProgressModel",
          "model_module_version": "1.5.0",
          "state": {
            "_dom_classes": [],
            "_model_module": "@jupyter-widgets/controls",
            "_model_module_version": "1.5.0",
            "_model_name": "FloatProgressModel",
            "_view_count": null,
            "_view_module": "@jupyter-widgets/controls",
            "_view_module_version": "1.5.0",
            "_view_name": "ProgressView",
            "bar_style": "success",
            "description": "",
            "description_tooltip": null,
            "layout": "IPY_MODEL_b6921ce0cd2f42969aebd810566e71ba",
            "max": 59462427,
            "min": 0,
            "orientation": "horizontal",
            "style": "IPY_MODEL_668b5ed7a960485ea803ab65e9bc0331",
            "value": 59462427
          }
        },
        "78e60f14d1d34554a41b73f47147be21": {
          "model_module": "@jupyter-widgets/controls",
          "model_name": "HTMLModel",
          "model_module_version": "1.5.0",
          "state": {
            "_dom_classes": [],
            "_model_module": "@jupyter-widgets/controls",
            "_model_module_version": "1.5.0",
            "_model_name": "HTMLModel",
            "_view_count": null,
            "_view_module": "@jupyter-widgets/controls",
            "_view_module_version": "1.5.0",
            "_view_name": "HTMLView",
            "description": "",
            "description_tooltip": null,
            "layout": "IPY_MODEL_3d8c6813e8104c0b8a9a2ad471a207f4",
            "placeholder": "​",
            "style": "IPY_MODEL_dc08bcd72eec45d2aa8a5e3645ef016e",
            "value": " 59.5M/59.5M [00:01&lt;00:00, 36.9MB/s]"
          }
        },
        "f759f6e3b219468c852f4bc153f7f995": {
          "model_module": "@jupyter-widgets/base",
          "model_name": "LayoutModel",
          "model_module_version": "1.2.0",
          "state": {
            "_model_module": "@jupyter-widgets/base",
            "_model_module_version": "1.2.0",
            "_model_name": "LayoutModel",
            "_view_count": null,
            "_view_module": "@jupyter-widgets/base",
            "_view_module_version": "1.2.0",
            "_view_name": "LayoutView",
            "align_content": null,
            "align_items": null,
            "align_self": null,
            "border": null,
            "bottom": null,
            "display": null,
            "flex": null,
            "flex_flow": null,
            "grid_area": null,
            "grid_auto_columns": null,
            "grid_auto_flow": null,
            "grid_auto_rows": null,
            "grid_column": null,
            "grid_gap": null,
            "grid_row": null,
            "grid_template_areas": null,
            "grid_template_columns": null,
            "grid_template_rows": null,
            "height": null,
            "justify_content": null,
            "justify_items": null,
            "left": null,
            "margin": null,
            "max_height": null,
            "max_width": null,
            "min_height": null,
            "min_width": null,
            "object_fit": null,
            "object_position": null,
            "order": null,
            "overflow": null,
            "overflow_x": null,
            "overflow_y": null,
            "padding": null,
            "right": null,
            "top": null,
            "visibility": null,
            "width": null
          }
        },
        "a99a694da0334ac6964f597261d59122": {
          "model_module": "@jupyter-widgets/base",
          "model_name": "LayoutModel",
          "model_module_version": "1.2.0",
          "state": {
            "_model_module": "@jupyter-widgets/base",
            "_model_module_version": "1.2.0",
            "_model_name": "LayoutModel",
            "_view_count": null,
            "_view_module": "@jupyter-widgets/base",
            "_view_module_version": "1.2.0",
            "_view_name": "LayoutView",
            "align_content": null,
            "align_items": null,
            "align_self": null,
            "border": null,
            "bottom": null,
            "display": null,
            "flex": null,
            "flex_flow": null,
            "grid_area": null,
            "grid_auto_columns": null,
            "grid_auto_flow": null,
            "grid_auto_rows": null,
            "grid_column": null,
            "grid_gap": null,
            "grid_row": null,
            "grid_template_areas": null,
            "grid_template_columns": null,
            "grid_template_rows": null,
            "height": null,
            "justify_content": null,
            "justify_items": null,
            "left": null,
            "margin": null,
            "max_height": null,
            "max_width": null,
            "min_height": null,
            "min_width": null,
            "object_fit": null,
            "object_position": null,
            "order": null,
            "overflow": null,
            "overflow_x": null,
            "overflow_y": null,
            "padding": null,
            "right": null,
            "top": null,
            "visibility": null,
            "width": null
          }
        },
        "01585f7763e0495794b98e64c79d0e20": {
          "model_module": "@jupyter-widgets/controls",
          "model_name": "DescriptionStyleModel",
          "model_module_version": "1.5.0",
          "state": {
            "_model_module": "@jupyter-widgets/controls",
            "_model_module_version": "1.5.0",
            "_model_name": "DescriptionStyleModel",
            "_view_count": null,
            "_view_module": "@jupyter-widgets/base",
            "_view_module_version": "1.2.0",
            "_view_name": "StyleView",
            "description_width": ""
          }
        },
        "b6921ce0cd2f42969aebd810566e71ba": {
          "model_module": "@jupyter-widgets/base",
          "model_name": "LayoutModel",
          "model_module_version": "1.2.0",
          "state": {
            "_model_module": "@jupyter-widgets/base",
            "_model_module_version": "1.2.0",
            "_model_name": "LayoutModel",
            "_view_count": null,
            "_view_module": "@jupyter-widgets/base",
            "_view_module_version": "1.2.0",
            "_view_name": "LayoutView",
            "align_content": null,
            "align_items": null,
            "align_self": null,
            "border": null,
            "bottom": null,
            "display": null,
            "flex": null,
            "flex_flow": null,
            "grid_area": null,
            "grid_auto_columns": null,
            "grid_auto_flow": null,
            "grid_auto_rows": null,
            "grid_column": null,
            "grid_gap": null,
            "grid_row": null,
            "grid_template_areas": null,
            "grid_template_columns": null,
            "grid_template_rows": null,
            "height": null,
            "justify_content": null,
            "justify_items": null,
            "left": null,
            "margin": null,
            "max_height": null,
            "max_width": null,
            "min_height": null,
            "min_width": null,
            "object_fit": null,
            "object_position": null,
            "order": null,
            "overflow": null,
            "overflow_x": null,
            "overflow_y": null,
            "padding": null,
            "right": null,
            "top": null,
            "visibility": null,
            "width": null
          }
        },
        "668b5ed7a960485ea803ab65e9bc0331": {
          "model_module": "@jupyter-widgets/controls",
          "model_name": "ProgressStyleModel",
          "model_module_version": "1.5.0",
          "state": {
            "_model_module": "@jupyter-widgets/controls",
            "_model_module_version": "1.5.0",
            "_model_name": "ProgressStyleModel",
            "_view_count": null,
            "_view_module": "@jupyter-widgets/base",
            "_view_module_version": "1.2.0",
            "_view_name": "StyleView",
            "bar_color": null,
            "description_width": ""
          }
        },
        "3d8c6813e8104c0b8a9a2ad471a207f4": {
          "model_module": "@jupyter-widgets/base",
          "model_name": "LayoutModel",
          "model_module_version": "1.2.0",
          "state": {
            "_model_module": "@jupyter-widgets/base",
            "_model_module_version": "1.2.0",
            "_model_name": "LayoutModel",
            "_view_count": null,
            "_view_module": "@jupyter-widgets/base",
            "_view_module_version": "1.2.0",
            "_view_name": "LayoutView",
            "align_content": null,
            "align_items": null,
            "align_self": null,
            "border": null,
            "bottom": null,
            "display": null,
            "flex": null,
            "flex_flow": null,
            "grid_area": null,
            "grid_auto_columns": null,
            "grid_auto_flow": null,
            "grid_auto_rows": null,
            "grid_column": null,
            "grid_gap": null,
            "grid_row": null,
            "grid_template_areas": null,
            "grid_template_columns": null,
            "grid_template_rows": null,
            "height": null,
            "justify_content": null,
            "justify_items": null,
            "left": null,
            "margin": null,
            "max_height": null,
            "max_width": null,
            "min_height": null,
            "min_width": null,
            "object_fit": null,
            "object_position": null,
            "order": null,
            "overflow": null,
            "overflow_x": null,
            "overflow_y": null,
            "padding": null,
            "right": null,
            "top": null,
            "visibility": null,
            "width": null
          }
        },
        "dc08bcd72eec45d2aa8a5e3645ef016e": {
          "model_module": "@jupyter-widgets/controls",
          "model_name": "DescriptionStyleModel",
          "model_module_version": "1.5.0",
          "state": {
            "_model_module": "@jupyter-widgets/controls",
            "_model_module_version": "1.5.0",
            "_model_name": "DescriptionStyleModel",
            "_view_count": null,
            "_view_module": "@jupyter-widgets/base",
            "_view_module_version": "1.2.0",
            "_view_name": "StyleView",
            "description_width": ""
          }
        },
        "24e8aa9c077c44e291c6af122650a3a4": {
          "model_module": "@jupyter-widgets/controls",
          "model_name": "HBoxModel",
          "model_module_version": "1.5.0",
          "state": {
            "_dom_classes": [],
            "_model_module": "@jupyter-widgets/controls",
            "_model_module_version": "1.5.0",
            "_model_name": "HBoxModel",
            "_view_count": null,
            "_view_module": "@jupyter-widgets/controls",
            "_view_module_version": "1.5.0",
            "_view_name": "HBoxView",
            "box_style": "",
            "children": [
              "IPY_MODEL_c78afd6745e94da3a1bbca8eefc1b081",
              "IPY_MODEL_04433ec85655419fb4bfe2b1d076217b",
              "IPY_MODEL_8fa04f9a1b4e42989f43e0a0403297db"
            ],
            "layout": "IPY_MODEL_24d76a16ea004d099bca79c3f1b5a0a4"
          }
        },
        "c78afd6745e94da3a1bbca8eefc1b081": {
          "model_module": "@jupyter-widgets/controls",
          "model_name": "HTMLModel",
          "model_module_version": "1.5.0",
          "state": {
            "_dom_classes": [],
            "_model_module": "@jupyter-widgets/controls",
            "_model_module_version": "1.5.0",
            "_model_name": "HTMLModel",
            "_view_count": null,
            "_view_module": "@jupyter-widgets/controls",
            "_view_module_version": "1.5.0",
            "_view_name": "HTMLView",
            "description": "",
            "description_tooltip": null,
            "layout": "IPY_MODEL_18173c4b4eed48c6a23b6ef327758590",
            "placeholder": "​",
            "style": "IPY_MODEL_cfa7627fef2e416c942efa1057196719",
            "value": "Generating train split: 100%"
          }
        },
        "04433ec85655419fb4bfe2b1d076217b": {
          "model_module": "@jupyter-widgets/controls",
          "model_name": "FloatProgressModel",
          "model_module_version": "1.5.0",
          "state": {
            "_dom_classes": [],
            "_model_module": "@jupyter-widgets/controls",
            "_model_module_version": "1.5.0",
            "_model_name": "FloatProgressModel",
            "_view_count": null,
            "_view_module": "@jupyter-widgets/controls",
            "_view_module_version": "1.5.0",
            "_view_name": "ProgressView",
            "bar_style": "success",
            "description": "",
            "description_tooltip": null,
            "layout": "IPY_MODEL_3d0b5480086d4d9f9e88288c31dac982",
            "max": 56025,
            "min": 0,
            "orientation": "horizontal",
            "style": "IPY_MODEL_d4a246e2f6cf413794e41edbfd8be6a5",
            "value": 56025
          }
        },
        "8fa04f9a1b4e42989f43e0a0403297db": {
          "model_module": "@jupyter-widgets/controls",
          "model_name": "HTMLModel",
          "model_module_version": "1.5.0",
          "state": {
            "_dom_classes": [],
            "_model_module": "@jupyter-widgets/controls",
            "_model_module_version": "1.5.0",
            "_model_name": "HTMLModel",
            "_view_count": null,
            "_view_module": "@jupyter-widgets/controls",
            "_view_module_version": "1.5.0",
            "_view_name": "HTMLView",
            "description": "",
            "description_tooltip": null,
            "layout": "IPY_MODEL_da3492b8166e437fa1e63d0fad61b1c1",
            "placeholder": "​",
            "style": "IPY_MODEL_ac058b14b1164b5fba1698ea33cc6a0f",
            "value": " 56025/56025 [00:00&lt;00:00, 159542.28 examples/s]"
          }
        },
        "24d76a16ea004d099bca79c3f1b5a0a4": {
          "model_module": "@jupyter-widgets/base",
          "model_name": "LayoutModel",
          "model_module_version": "1.2.0",
          "state": {
            "_model_module": "@jupyter-widgets/base",
            "_model_module_version": "1.2.0",
            "_model_name": "LayoutModel",
            "_view_count": null,
            "_view_module": "@jupyter-widgets/base",
            "_view_module_version": "1.2.0",
            "_view_name": "LayoutView",
            "align_content": null,
            "align_items": null,
            "align_self": null,
            "border": null,
            "bottom": null,
            "display": null,
            "flex": null,
            "flex_flow": null,
            "grid_area": null,
            "grid_auto_columns": null,
            "grid_auto_flow": null,
            "grid_auto_rows": null,
            "grid_column": null,
            "grid_gap": null,
            "grid_row": null,
            "grid_template_areas": null,
            "grid_template_columns": null,
            "grid_template_rows": null,
            "height": null,
            "justify_content": null,
            "justify_items": null,
            "left": null,
            "margin": null,
            "max_height": null,
            "max_width": null,
            "min_height": null,
            "min_width": null,
            "object_fit": null,
            "object_position": null,
            "order": null,
            "overflow": null,
            "overflow_x": null,
            "overflow_y": null,
            "padding": null,
            "right": null,
            "top": null,
            "visibility": null,
            "width": null
          }
        },
        "18173c4b4eed48c6a23b6ef327758590": {
          "model_module": "@jupyter-widgets/base",
          "model_name": "LayoutModel",
          "model_module_version": "1.2.0",
          "state": {
            "_model_module": "@jupyter-widgets/base",
            "_model_module_version": "1.2.0",
            "_model_name": "LayoutModel",
            "_view_count": null,
            "_view_module": "@jupyter-widgets/base",
            "_view_module_version": "1.2.0",
            "_view_name": "LayoutView",
            "align_content": null,
            "align_items": null,
            "align_self": null,
            "border": null,
            "bottom": null,
            "display": null,
            "flex": null,
            "flex_flow": null,
            "grid_area": null,
            "grid_auto_columns": null,
            "grid_auto_flow": null,
            "grid_auto_rows": null,
            "grid_column": null,
            "grid_gap": null,
            "grid_row": null,
            "grid_template_areas": null,
            "grid_template_columns": null,
            "grid_template_rows": null,
            "height": null,
            "justify_content": null,
            "justify_items": null,
            "left": null,
            "margin": null,
            "max_height": null,
            "max_width": null,
            "min_height": null,
            "min_width": null,
            "object_fit": null,
            "object_position": null,
            "order": null,
            "overflow": null,
            "overflow_x": null,
            "overflow_y": null,
            "padding": null,
            "right": null,
            "top": null,
            "visibility": null,
            "width": null
          }
        },
        "cfa7627fef2e416c942efa1057196719": {
          "model_module": "@jupyter-widgets/controls",
          "model_name": "DescriptionStyleModel",
          "model_module_version": "1.5.0",
          "state": {
            "_model_module": "@jupyter-widgets/controls",
            "_model_module_version": "1.5.0",
            "_model_name": "DescriptionStyleModel",
            "_view_count": null,
            "_view_module": "@jupyter-widgets/base",
            "_view_module_version": "1.2.0",
            "_view_name": "StyleView",
            "description_width": ""
          }
        },
        "3d0b5480086d4d9f9e88288c31dac982": {
          "model_module": "@jupyter-widgets/base",
          "model_name": "LayoutModel",
          "model_module_version": "1.2.0",
          "state": {
            "_model_module": "@jupyter-widgets/base",
            "_model_module_version": "1.2.0",
            "_model_name": "LayoutModel",
            "_view_count": null,
            "_view_module": "@jupyter-widgets/base",
            "_view_module_version": "1.2.0",
            "_view_name": "LayoutView",
            "align_content": null,
            "align_items": null,
            "align_self": null,
            "border": null,
            "bottom": null,
            "display": null,
            "flex": null,
            "flex_flow": null,
            "grid_area": null,
            "grid_auto_columns": null,
            "grid_auto_flow": null,
            "grid_auto_rows": null,
            "grid_column": null,
            "grid_gap": null,
            "grid_row": null,
            "grid_template_areas": null,
            "grid_template_columns": null,
            "grid_template_rows": null,
            "height": null,
            "justify_content": null,
            "justify_items": null,
            "left": null,
            "margin": null,
            "max_height": null,
            "max_width": null,
            "min_height": null,
            "min_width": null,
            "object_fit": null,
            "object_position": null,
            "order": null,
            "overflow": null,
            "overflow_x": null,
            "overflow_y": null,
            "padding": null,
            "right": null,
            "top": null,
            "visibility": null,
            "width": null
          }
        },
        "d4a246e2f6cf413794e41edbfd8be6a5": {
          "model_module": "@jupyter-widgets/controls",
          "model_name": "ProgressStyleModel",
          "model_module_version": "1.5.0",
          "state": {
            "_model_module": "@jupyter-widgets/controls",
            "_model_module_version": "1.5.0",
            "_model_name": "ProgressStyleModel",
            "_view_count": null,
            "_view_module": "@jupyter-widgets/base",
            "_view_module_version": "1.2.0",
            "_view_name": "StyleView",
            "bar_color": null,
            "description_width": ""
          }
        },
        "da3492b8166e437fa1e63d0fad61b1c1": {
          "model_module": "@jupyter-widgets/base",
          "model_name": "LayoutModel",
          "model_module_version": "1.2.0",
          "state": {
            "_model_module": "@jupyter-widgets/base",
            "_model_module_version": "1.2.0",
            "_model_name": "LayoutModel",
            "_view_count": null,
            "_view_module": "@jupyter-widgets/base",
            "_view_module_version": "1.2.0",
            "_view_name": "LayoutView",
            "align_content": null,
            "align_items": null,
            "align_self": null,
            "border": null,
            "bottom": null,
            "display": null,
            "flex": null,
            "flex_flow": null,
            "grid_area": null,
            "grid_auto_columns": null,
            "grid_auto_flow": null,
            "grid_auto_rows": null,
            "grid_column": null,
            "grid_gap": null,
            "grid_row": null,
            "grid_template_areas": null,
            "grid_template_columns": null,
            "grid_template_rows": null,
            "height": null,
            "justify_content": null,
            "justify_items": null,
            "left": null,
            "margin": null,
            "max_height": null,
            "max_width": null,
            "min_height": null,
            "min_width": null,
            "object_fit": null,
            "object_position": null,
            "order": null,
            "overflow": null,
            "overflow_x": null,
            "overflow_y": null,
            "padding": null,
            "right": null,
            "top": null,
            "visibility": null,
            "width": null
          }
        },
        "ac058b14b1164b5fba1698ea33cc6a0f": {
          "model_module": "@jupyter-widgets/controls",
          "model_name": "DescriptionStyleModel",
          "model_module_version": "1.5.0",
          "state": {
            "_model_module": "@jupyter-widgets/controls",
            "_model_module_version": "1.5.0",
            "_model_name": "DescriptionStyleModel",
            "_view_count": null,
            "_view_module": "@jupyter-widgets/base",
            "_view_module_version": "1.2.0",
            "_view_name": "StyleView",
            "description_width": ""
          }
        }
      }
    }
  },
  "cells": [
    {
      "cell_type": "markdown",
      "metadata": {
        "id": "view-in-github",
        "colab_type": "text"
      },
      "source": [
        "<a href=\"https://colab.research.google.com/github/PioneerAlexander/Leveraging-software-evolution-data-with-LLMs/blob/main/CommitPackFT_Data_Exploration.ipynb\" target=\"_parent\"><img src=\"https://colab.research.google.com/assets/colab-badge.svg\" alt=\"Open In Colab\"/></a>"
      ]
    },
    {
      "cell_type": "markdown",
      "source": [
        "# **CommitPackFT** Data Exploration"
      ],
      "metadata": {
        "id": "zBlzxpQ-_GMu"
      }
    },
    {
      "cell_type": "markdown",
      "source": [
        "# Install dependencies"
      ],
      "metadata": {
        "id": "usM5ithLLLwM"
      }
    },
    {
      "cell_type": "code",
      "source": [
        "!pip install datasets transformers[torch]\n"
      ],
      "metadata": {
        "colab": {
          "base_uri": "https://localhost:8080/"
        },
        "id": "oVbb_VkrKd2M",
        "outputId": "d84187fb-9655-4aed-f5a4-2c74f93d8514"
      },
      "execution_count": 2,
      "outputs": [
        {
          "output_type": "stream",
          "name": "stdout",
          "text": [
            "Collecting datasets\n",
            "  Downloading datasets-2.16.0-py3-none-any.whl (507 kB)\n",
            "\u001b[2K     \u001b[90m━━━━━━━━━━━━━━━━━━━━━━━━━━━━━━━━━━━━━━━━\u001b[0m \u001b[32m507.1/507.1 kB\u001b[0m \u001b[31m3.2 MB/s\u001b[0m eta \u001b[36m0:00:00\u001b[0m\n",
            "\u001b[?25hRequirement already satisfied: transformers[torch] in /usr/local/lib/python3.10/dist-packages (4.35.2)\n",
            "Requirement already satisfied: filelock in /usr/local/lib/python3.10/dist-packages (from datasets) (3.13.1)\n",
            "Requirement already satisfied: numpy>=1.17 in /usr/local/lib/python3.10/dist-packages (from datasets) (1.23.5)\n",
            "Requirement already satisfied: pyarrow>=8.0.0 in /usr/local/lib/python3.10/dist-packages (from datasets) (10.0.1)\n",
            "Collecting pyarrow-hotfix (from datasets)\n",
            "  Downloading pyarrow_hotfix-0.6-py3-none-any.whl (7.9 kB)\n",
            "Collecting dill<0.3.8,>=0.3.0 (from datasets)\n",
            "  Downloading dill-0.3.7-py3-none-any.whl (115 kB)\n",
            "\u001b[2K     \u001b[90m━━━━━━━━━━━━━━━━━━━━━━━━━━━━━━━━━━━━━━━━\u001b[0m \u001b[32m115.3/115.3 kB\u001b[0m \u001b[31m10.3 MB/s\u001b[0m eta \u001b[36m0:00:00\u001b[0m\n",
            "\u001b[?25hRequirement already satisfied: pandas in /usr/local/lib/python3.10/dist-packages (from datasets) (1.5.3)\n",
            "Requirement already satisfied: requests>=2.19.0 in /usr/local/lib/python3.10/dist-packages (from datasets) (2.31.0)\n",
            "Requirement already satisfied: tqdm>=4.62.1 in /usr/local/lib/python3.10/dist-packages (from datasets) (4.66.1)\n",
            "Requirement already satisfied: xxhash in /usr/local/lib/python3.10/dist-packages (from datasets) (3.4.1)\n",
            "Collecting multiprocess (from datasets)\n",
            "  Downloading multiprocess-0.70.15-py310-none-any.whl (134 kB)\n",
            "\u001b[2K     \u001b[90m━━━━━━━━━━━━━━━━━━━━━━━━━━━━━━━━━━━━━━━━\u001b[0m \u001b[32m134.8/134.8 kB\u001b[0m \u001b[31m11.7 MB/s\u001b[0m eta \u001b[36m0:00:00\u001b[0m\n",
            "\u001b[?25hRequirement already satisfied: fsspec[http]<=2023.10.0,>=2023.1.0 in /usr/local/lib/python3.10/dist-packages (from datasets) (2023.6.0)\n",
            "Requirement already satisfied: aiohttp in /usr/local/lib/python3.10/dist-packages (from datasets) (3.9.1)\n",
            "Requirement already satisfied: huggingface-hub>=0.19.4 in /usr/local/lib/python3.10/dist-packages (from datasets) (0.19.4)\n",
            "Requirement already satisfied: packaging in /usr/local/lib/python3.10/dist-packages (from datasets) (23.2)\n",
            "Requirement already satisfied: pyyaml>=5.1 in /usr/local/lib/python3.10/dist-packages (from datasets) (6.0.1)\n",
            "Requirement already satisfied: regex!=2019.12.17 in /usr/local/lib/python3.10/dist-packages (from transformers[torch]) (2023.6.3)\n",
            "Requirement already satisfied: tokenizers<0.19,>=0.14 in /usr/local/lib/python3.10/dist-packages (from transformers[torch]) (0.15.0)\n",
            "Requirement already satisfied: safetensors>=0.3.1 in /usr/local/lib/python3.10/dist-packages (from transformers[torch]) (0.4.1)\n",
            "Requirement already satisfied: torch!=1.12.0,>=1.10 in /usr/local/lib/python3.10/dist-packages (from transformers[torch]) (2.1.0+cu121)\n",
            "Collecting accelerate>=0.20.3 (from transformers[torch])\n",
            "  Downloading accelerate-0.25.0-py3-none-any.whl (265 kB)\n",
            "\u001b[2K     \u001b[90m━━━━━━━━━━━━━━━━━━━━━━━━━━━━━━━━━━━━━━━━\u001b[0m \u001b[32m265.7/265.7 kB\u001b[0m \u001b[31m19.3 MB/s\u001b[0m eta \u001b[36m0:00:00\u001b[0m\n",
            "\u001b[?25hRequirement already satisfied: psutil in /usr/local/lib/python3.10/dist-packages (from accelerate>=0.20.3->transformers[torch]) (5.9.5)\n",
            "Requirement already satisfied: attrs>=17.3.0 in /usr/local/lib/python3.10/dist-packages (from aiohttp->datasets) (23.1.0)\n",
            "Requirement already satisfied: multidict<7.0,>=4.5 in /usr/local/lib/python3.10/dist-packages (from aiohttp->datasets) (6.0.4)\n",
            "Requirement already satisfied: yarl<2.0,>=1.0 in /usr/local/lib/python3.10/dist-packages (from aiohttp->datasets) (1.9.4)\n",
            "Requirement already satisfied: frozenlist>=1.1.1 in /usr/local/lib/python3.10/dist-packages (from aiohttp->datasets) (1.4.1)\n",
            "Requirement already satisfied: aiosignal>=1.1.2 in /usr/local/lib/python3.10/dist-packages (from aiohttp->datasets) (1.3.1)\n",
            "Requirement already satisfied: async-timeout<5.0,>=4.0 in /usr/local/lib/python3.10/dist-packages (from aiohttp->datasets) (4.0.3)\n",
            "Requirement already satisfied: typing-extensions>=3.7.4.3 in /usr/local/lib/python3.10/dist-packages (from huggingface-hub>=0.19.4->datasets) (4.5.0)\n",
            "Requirement already satisfied: charset-normalizer<4,>=2 in /usr/local/lib/python3.10/dist-packages (from requests>=2.19.0->datasets) (3.3.2)\n",
            "Requirement already satisfied: idna<4,>=2.5 in /usr/local/lib/python3.10/dist-packages (from requests>=2.19.0->datasets) (3.6)\n",
            "Requirement already satisfied: urllib3<3,>=1.21.1 in /usr/local/lib/python3.10/dist-packages (from requests>=2.19.0->datasets) (2.0.7)\n",
            "Requirement already satisfied: certifi>=2017.4.17 in /usr/local/lib/python3.10/dist-packages (from requests>=2.19.0->datasets) (2023.11.17)\n",
            "Requirement already satisfied: sympy in /usr/local/lib/python3.10/dist-packages (from torch!=1.12.0,>=1.10->transformers[torch]) (1.12)\n",
            "Requirement already satisfied: networkx in /usr/local/lib/python3.10/dist-packages (from torch!=1.12.0,>=1.10->transformers[torch]) (3.2.1)\n",
            "Requirement already satisfied: jinja2 in /usr/local/lib/python3.10/dist-packages (from torch!=1.12.0,>=1.10->transformers[torch]) (3.1.2)\n",
            "Requirement already satisfied: triton==2.1.0 in /usr/local/lib/python3.10/dist-packages (from torch!=1.12.0,>=1.10->transformers[torch]) (2.1.0)\n",
            "Requirement already satisfied: python-dateutil>=2.8.1 in /usr/local/lib/python3.10/dist-packages (from pandas->datasets) (2.8.2)\n",
            "Requirement already satisfied: pytz>=2020.1 in /usr/local/lib/python3.10/dist-packages (from pandas->datasets) (2023.3.post1)\n",
            "Requirement already satisfied: six>=1.5 in /usr/local/lib/python3.10/dist-packages (from python-dateutil>=2.8.1->pandas->datasets) (1.16.0)\n",
            "Requirement already satisfied: MarkupSafe>=2.0 in /usr/local/lib/python3.10/dist-packages (from jinja2->torch!=1.12.0,>=1.10->transformers[torch]) (2.1.3)\n",
            "Requirement already satisfied: mpmath>=0.19 in /usr/local/lib/python3.10/dist-packages (from sympy->torch!=1.12.0,>=1.10->transformers[torch]) (1.3.0)\n",
            "Installing collected packages: pyarrow-hotfix, dill, multiprocess, accelerate, datasets\n",
            "Successfully installed accelerate-0.25.0 datasets-2.16.0 dill-0.3.7 multiprocess-0.70.15 pyarrow-hotfix-0.6\n"
          ]
        }
      ]
    },
    {
      "cell_type": "markdown",
      "source": [
        "# Load dataset"
      ],
      "metadata": {
        "id": "a-Ct_cxOOWK2"
      }
    },
    {
      "cell_type": "code",
      "execution_count": 3,
      "metadata": {
        "colab": {
          "base_uri": "https://localhost:8080/",
          "height": 81,
          "referenced_widgets": [
            "f73641e2666c42bbb2127fac391d488d",
            "3e33d16773094df89a3d5c943025a88a",
            "6f8b8647236149d7839a3d68571cae45",
            "78e60f14d1d34554a41b73f47147be21",
            "f759f6e3b219468c852f4bc153f7f995",
            "a99a694da0334ac6964f597261d59122",
            "01585f7763e0495794b98e64c79d0e20",
            "b6921ce0cd2f42969aebd810566e71ba",
            "668b5ed7a960485ea803ab65e9bc0331",
            "3d8c6813e8104c0b8a9a2ad471a207f4",
            "dc08bcd72eec45d2aa8a5e3645ef016e",
            "24e8aa9c077c44e291c6af122650a3a4",
            "c78afd6745e94da3a1bbca8eefc1b081",
            "04433ec85655419fb4bfe2b1d076217b",
            "8fa04f9a1b4e42989f43e0a0403297db",
            "24d76a16ea004d099bca79c3f1b5a0a4",
            "18173c4b4eed48c6a23b6ef327758590",
            "cfa7627fef2e416c942efa1057196719",
            "3d0b5480086d4d9f9e88288c31dac982",
            "d4a246e2f6cf413794e41edbfd8be6a5",
            "da3492b8166e437fa1e63d0fad61b1c1",
            "ac058b14b1164b5fba1698ea33cc6a0f"
          ]
        },
        "id": "R5qU8qYBKCvA",
        "outputId": "595b2ef7-c8b8-42ab-f920-4481cc27c87c"
      },
      "outputs": [
        {
          "output_type": "display_data",
          "data": {
            "text/plain": [
              "Downloading data:   0%|          | 0.00/59.5M [00:00<?, ?B/s]"
            ],
            "application/vnd.jupyter.widget-view+json": {
              "version_major": 2,
              "version_minor": 0,
              "model_id": "f73641e2666c42bbb2127fac391d488d"
            }
          },
          "metadata": {}
        },
        {
          "output_type": "display_data",
          "data": {
            "text/plain": [
              "Generating train split:   0%|          | 0/56025 [00:00<?, ? examples/s]"
            ],
            "application/vnd.jupyter.widget-view+json": {
              "version_major": 2,
              "version_minor": 0,
              "model_id": "24e8aa9c077c44e291c6af122650a3a4"
            }
          },
          "metadata": {}
        }
      ],
      "source": [
        "from datasets import load_dataset\n",
        "\n",
        "dataset = load_dataset(\"bigcode/commitpackft\", 'python')[\"train\"]"
      ]
    },
    {
      "cell_type": "markdown",
      "source": [
        "In this notebook we would observe only one of the splits for Python Language. For the exploration of the dataset in general for all splits, reach out to the [original paper](https://arxiv.org/pdf/2308.07124.pdf). The languages distribution graphs are provided from there:\n",
        "\n",
        "[Link](https://drive.google.com/file/d/1aFPulwfmazKoLGP4axyJ498eIBg57gCK/view?usp=sharing) to the picture with the graphs."
      ],
      "metadata": {
        "id": "djAFSdip9wIg"
      }
    },
    {
      "cell_type": "markdown",
      "source": [
        "# Explore dataset"
      ],
      "metadata": {
        "id": "_0tlBhiTxWAw"
      }
    },
    {
      "cell_type": "markdown",
      "source": [
        "\n",
        "# **Data fields description** (from Hugging Face page of the dataset)\n",
        "\n",
        "## Data Fields\n",
        "The data fields are the same among all splits:\n",
        "\n",
        "**commit:** unique commit id\n",
        "\n",
        "**old_file:** name of the file before the commit\n",
        "\n",
        "**new_file:** name of the file after the commit\n",
        "\n",
        "**old_contents:** contents of the file before the commit\n",
        "\n",
        "**new_contents:** contents of the file after the commit\n",
        "\n",
        "**subject:** subject of the commit (this is used for all experiments in the paper)\n",
        "\n",
        "**message:** message of the commit (commonly the same as the subject)\n",
        "\n",
        "**lang:** programming language\n",
        "\n",
        "**license:** license of the repository the code stems from, one of ['mit', 'artistic-2.0', 'isc', 'cc0-1.0', 'epl-1.0', 'mpl-2.0', 'unlicense', 'unknown', 'apache-2.0', 'bsd-3-clause', 'agpl-3.0', 'lgpl-2.1', 'bsd-2-clause']\n",
        "\n",
        "repos: name of the the repository the code stems from (if multiple, they are comma separated)"
      ],
      "metadata": {
        "id": "RYS4ZpzRw3N5"
      }
    },
    {
      "cell_type": "code",
      "source": [
        "print(dataset)"
      ],
      "metadata": {
        "colab": {
          "base_uri": "https://localhost:8080/"
        },
        "id": "rGmNjgfukAWQ",
        "outputId": "73efebc3-7893-4b14-b940-397b80ac3a55"
      },
      "execution_count": 4,
      "outputs": [
        {
          "output_type": "stream",
          "name": "stdout",
          "text": [
            "Dataset({\n",
            "    features: ['commit', 'old_file', 'new_file', 'old_contents', 'new_contents', 'subject', 'message', 'lang', 'license', 'repos'],\n",
            "    num_rows: 56025\n",
            "})\n"
          ]
        }
      ]
    },
    {
      "cell_type": "markdown",
      "source": [
        "Let's start with 'commit' section. Let's look how the arbitrary commit looks:"
      ],
      "metadata": {
        "id": "qxMcrDEoy2fg"
      }
    },
    {
      "cell_type": "code",
      "source": [
        "import pandas as pd\n",
        "\n",
        "print(pd.Series(dataset['commit']).value_counts())"
      ],
      "metadata": {
        "colab": {
          "base_uri": "https://localhost:8080/"
        },
        "id": "2D_1EPI-zByj",
        "outputId": "86a0cddc-d7c4-4869-bb17-12012daca54d"
      },
      "execution_count": 31,
      "outputs": [
        {
          "output_type": "stream",
          "name": "stdout",
          "text": [
            "e905334869af72025592de586b81650cb3468b8a    1\n",
            "fe4f2697afdc280e0158aad1acf9613d1decb32d    1\n",
            "38b4af0b3c1c6105d68ff453d86107758ef9d751    1\n",
            "634442dc25385831ce8f165ab8d9d58493a1979a    1\n",
            "af56e9e9935b2caafe2b13eff3e2dd0d0eb5d980    1\n",
            "                                           ..\n",
            "7ab465aaaf69ba114b3411204dd773781a147c41    1\n",
            "0feb1810b1e3ca61ef15deb71aec9fd1eab3f2da    1\n",
            "8c159ee5fa6aa1d10cef2268a373b90f6cb72896    1\n",
            "daca2bb7810b4c8eaf9f6a0598d8c6b41e0f2e10    1\n",
            "4ec8f09736113630208325cb08f1ffe07e8acc26    1\n",
            "Length: 56025, dtype: int64\n"
          ]
        }
      ]
    },
    {
      "cell_type": "markdown",
      "source": [
        "Indeed, just an unique id. Number of unique id's is equal to number of all rows, which proves the statement about the uniqueness"
      ],
      "metadata": {
        "id": "bGKVbLxCzJCx"
      }
    },
    {
      "cell_type": "markdown",
      "source": [
        "Let's look at the data in the 'old_file' and 'new_file' fields:"
      ],
      "metadata": {
        "id": "LP2tJ0cts10k"
      }
    },
    {
      "cell_type": "code",
      "source": [
        "print(dataset['old_file'][:5])"
      ],
      "metadata": {
        "colab": {
          "base_uri": "https://localhost:8080/"
        },
        "id": "6x-6F5NrtF7x",
        "outputId": "c7c52a8a-8131-443a-ee74-48ab42dfebb0"
      },
      "execution_count": 9,
      "outputs": [
        {
          "output_type": "stream",
          "name": "stdout",
          "text": [
            "['sentry/queue/client.py', 'tests/test_openweather.py', 'src/dashboard/src/main/templatetags/percentage.py', 'automata/base/exceptions.py', 'account_invoice_line_description/res_config.py']\n"
          ]
        }
      ]
    },
    {
      "cell_type": "code",
      "source": [
        "print(dataset['new_file'][:5])"
      ],
      "metadata": {
        "colab": {
          "base_uri": "https://localhost:8080/"
        },
        "id": "03xeZGauuT_i",
        "outputId": "1b452368-ba9a-4ed1-ffd0-244da996f86b"
      },
      "execution_count": 10,
      "outputs": [
        {
          "output_type": "stream",
          "name": "stdout",
          "text": [
            "['sentry/queue/client.py', 'tests/test_openweather.py', 'src/dashboard/src/main/templatetags/percentage.py', 'automata/base/exceptions.py', 'account_invoice_line_description/res_config.py']\n"
          ]
        }
      ]
    },
    {
      "cell_type": "markdown",
      "source": [
        "We assume that the commits are not changing filenames (and their paths), because it is how **CommitPackFT** is filtered. Let's check if all commits indeed are just dealing with one file:"
      ],
      "metadata": {
        "id": "vGCO0Ep60qPV"
      }
    },
    {
      "cell_type": "code",
      "source": [
        "[commit_message for commit_message in dataset if commit_message['old_file'] != commit_message['new_file']]"
      ],
      "metadata": {
        "colab": {
          "base_uri": "https://localhost:8080/"
        },
        "id": "aR1MMrmEuYiy",
        "outputId": "621f245d-8d45-4af1-ebf1-42e1dcaf03b4"
      },
      "execution_count": 30,
      "outputs": [
        {
          "output_type": "execute_result",
          "data": {
            "text/plain": [
              "[]"
            ]
          },
          "metadata": {},
          "execution_count": 30
        }
      ]
    },
    {
      "cell_type": "markdown",
      "source": [
        "[CommitPackFT filters description](https://arxiv.org/pdf/2308.07124.pdf) is defined in **Appendix | D Dataset Creation** *(page 29)*"
      ],
      "metadata": {
        "id": "qjJXnr65vGyX"
      }
    },
    {
      "cell_type": "markdown",
      "source": [
        "Code inside the 'old_contents' is just a code of a file written in a string with the correct indentation:"
      ],
      "metadata": {
        "id": "Ae2z6HBsxlVR"
      }
    },
    {
      "cell_type": "code",
      "source": [
        "print(dataset[0][\"new_contents\"])"
      ],
      "metadata": {
        "colab": {
          "base_uri": "https://localhost:8080/"
        },
        "id": "Fpf-rwsZxtbn",
        "outputId": "530e71cd-e94f-4ac3-a438-d8b7037a816a"
      },
      "execution_count": 21,
      "outputs": [
        {
          "output_type": "stream",
          "name": "stdout",
          "text": [
            "\"\"\"\n",
            "sentry.queue.client\n",
            "~~~~~~~~~~~~~~~~~~~\n",
            "\n",
            ":copyright: (c) 2010 by the Sentry Team, see AUTHORS for more details.\n",
            ":license: BSD, see LICENSE for more details.\n",
            "\"\"\"\n",
            "from kombu import BrokerConnection\n",
            "from kombu.common import maybe_declare\n",
            "from kombu.pools import producers\n",
            "\n",
            "from sentry.conf import settings\n",
            "from sentry.queue.queues import task_queues, task_exchange\n",
            "\n",
            "\n",
            "class Broker(object):\n",
            "    def __init__(self, config):\n",
            "        self.connection = BrokerConnection(**config)\n",
            "        with producers[self.connection].acquire(block=False) as producer:\n",
            "            for queue in task_queues:\n",
            "                maybe_declare(queue, producer.channel)\n",
            "\n",
            "    def delay(self, func, *args, **kwargs):\n",
            "        payload = {\n",
            "            \"func\": func,\n",
            "            \"args\": args,\n",
            "            \"kwargs\": kwargs,\n",
            "        }\n",
            "\n",
            "        with producers[self.connection].acquire(block=False) as producer:\n",
            "            producer.publish(payload,\n",
            "                exchange=task_exchange,\n",
            "                serializer=\"pickle\",\n",
            "                compression=\"bzip2\",\n",
            "                queue='default',\n",
            "                routing_key='default',\n",
            "            )\n",
            "\n",
            "broker = Broker(settings.QUEUE)\n",
            "\n"
          ]
        }
      ]
    },
    {
      "cell_type": "code",
      "source": [
        "print(dataset[8][\"new_contents\"])"
      ],
      "metadata": {
        "colab": {
          "base_uri": "https://localhost:8080/"
        },
        "id": "TBgzC_4QyG0U",
        "outputId": "6d2275ff-6a24-4d83-f4d2-9ddc633a2e58"
      },
      "execution_count": 23,
      "outputs": [
        {
          "output_type": "stream",
          "name": "stdout",
          "text": [
            "#!/usr/bin/env python\n",
            "from distutils.core import setup\n",
            "\n",
            "packages = [\n",
            "    'upho',\n",
            "    'upho.phonon',\n",
            "    'upho.harmonic',\n",
            "    'upho.analysis',\n",
            "    'upho.structure',\n",
            "    'upho.irreps',\n",
            "    'upho.qpoints',\n",
            "    'group',\n",
            "]\n",
            "scripts = [\n",
            "    'scripts/upho_weights',\n",
            "    'scripts/upho_sf',\n",
            "    'scripts/upho_qpoints',\n",
            "    'scripts/upho_fit',\n",
            "]\n",
            "setup(name='upho',\n",
            "      version='0.5.3',\n",
            "      author=\"Yuji Ikeda\",\n",
            "      author_email=\"y.ikeda@mpie.de\",\n",
            "      packages=packages,\n",
            "      scripts=scripts,\n",
            "      install_requires=['numpy', 'h5py', 'phonopy'])\n",
            "\n"
          ]
        }
      ]
    },
    {
      "cell_type": "markdown",
      "source": [
        "\n",
        "\n",
        "> We see that there are inside not only class creations, function definitions, but also some source files from Python projects. For every code we can execute it with the standard *exec* command, if we want to check its correctness. Also assuming the dataset is secure, because in uncontrollable deployment *exec* command is highly not recommended to be used.\n",
        "\n"
      ],
      "metadata": {
        "id": "9b1HQ4rOyP3k"
      }
    },
    {
      "cell_type": "markdown",
      "source": [
        "\n",
        "Let's look how the 'subject' data looks like:\n"
      ],
      "metadata": {
        "id": "_GATVC_yyjHo"
      }
    },
    {
      "cell_type": "code",
      "source": [
        "for item in dataset['subject'][:5]:\n",
        "  print(item)"
      ],
      "metadata": {
        "colab": {
          "base_uri": "https://localhost:8080/"
        },
        "id": "UInrvw9O0rqK",
        "outputId": "041594de-9148-451e-9d4e-a37fe1cb64c8"
      },
      "execution_count": 28,
      "outputs": [
        {
          "output_type": "stream",
          "name": "stdout",
          "text": [
            "Declare queues when broker is instantiated\n",
            "Revert \"Fix openweather unit tests\"\n",
            "Fix % only showing 0 or 100%, everything between goes to 0%.\n",
            "Remove \"validation\" from RejectionException docstring\n",
            "Fix implied_group, it still refers to the old module name\n"
          ]
        }
      ]
    },
    {
      "cell_type": "markdown",
      "source": [
        "\n",
        "> We can notice that the commits are starting with the key words, where the first letter is uppecase. It is not a coincidence: it is one other filter condition when the **CommitPackFT** was created. Refer to **[Table 7: Commit message starting words allowed in COMMITPACKFT](https://arxiv.org/pdf/2308.07124.pdf)**, page 30 for the compete description.\n",
        "\n",
        "\n"
      ],
      "metadata": {
        "id": "XR_lajMb1Ocy"
      }
    },
    {
      "cell_type": "markdown",
      "source": [
        "In Hugging Face dataset description stays that the message is commonly the same as the subject. Let's check how many are concide:"
      ],
      "metadata": {
        "id": "chGs7rbc3agS"
      }
    },
    {
      "cell_type": "code",
      "source": [
        "unmatched_dataset = dataset.filter(lambda commit: commit['subject'] == commit['message'])\n",
        "print(unmatched_dataset)"
      ],
      "metadata": {
        "colab": {
          "base_uri": "https://localhost:8080/"
        },
        "id": "C3NsO_ff3wRW",
        "outputId": "85608b9c-487d-4a82-95dd-2c480a7269d6"
      },
      "execution_count": 37,
      "outputs": [
        {
          "output_type": "stream",
          "name": "stdout",
          "text": [
            "Dataset({\n",
            "    features: ['commit', 'old_file', 'new_file', 'old_contents', 'new_contents', 'subject', 'message', 'lang', 'license', 'repos'],\n",
            "    num_rows: 1986\n",
            "})\n"
          ]
        }
      ]
    },
    {
      "cell_type": "code",
      "source": [
        "print(len(unmatched_dataset) / len(dataset) * 100)"
      ],
      "metadata": {
        "colab": {
          "base_uri": "https://localhost:8080/"
        },
        "id": "hYPW6Jyr4ONq",
        "outputId": "2eea5edd-dcf8-4c17-881c-dd071c3908ce"
      },
      "execution_count": 40,
      "outputs": [
        {
          "output_type": "stream",
          "name": "stdout",
          "text": [
            "3.544846050870147\n"
          ]
        }
      ]
    },
    {
      "cell_type": "markdown",
      "source": [
        "\n",
        "\n",
        "> Only for 3,5 % of the commits (for Python language) have no complete match of 'message' and 'subject'.\n",
        "\n"
      ],
      "metadata": {
        "id": "a8urJtYC4s4i"
      }
    },
    {
      "cell_type": "markdown",
      "source": [
        "'lang' data should coincide with the split we have chosen in the start:"
      ],
      "metadata": {
        "id": "aOAQreap5MlZ"
      }
    },
    {
      "cell_type": "code",
      "source": [
        "check_language_dataset = dataset.filter(lambda commit: commit['lang'] == \"Python\")\n",
        "assert(len(check_language_dataset) == len(dataset))"
      ],
      "metadata": {
        "id": "4hq1QPq35nYA"
      },
      "execution_count": 44,
      "outputs": []
    },
    {
      "cell_type": "markdown",
      "source": [
        "Let's observe the distribution of the 'license' data.\n"
      ],
      "metadata": {
        "id": "17TPzsWc57ez"
      }
    },
    {
      "cell_type": "code",
      "source": [
        "import matplotlib.pyplot as plt\n",
        "column_name = \"license\"\n",
        "column_data = pd.Series(dataset[column_name])\n",
        "value_counts = column_data.value_counts()\n",
        "plt.bar(value_counts.index, value_counts.values, color='skyblue')\n",
        "plt.title(f'Bar Chart of {column_name}')\n",
        "plt.xlabel(column_name)\n",
        "plt.xticks(rotation=45, ha=\"right\")\n",
        "plt.ylabel('Frequency')\n",
        "plt.show()\n"
      ],
      "metadata": {
        "colab": {
          "base_uri": "https://localhost:8080/",
          "height": 530
        },
        "id": "uw5OYRS06OmO",
        "outputId": "b7c1fea9-2c76-4d5f-9199-755c415d7c72"
      },
      "execution_count": 51,
      "outputs": [
        {
          "output_type": "display_data",
          "data": {
            "text/plain": [
              "<Figure size 640x480 with 1 Axes>"
            ],
            "image/png": "[encoded data removed]"
          },
          "metadata": {}
        }
      ]
    },
    {
      "cell_type": "markdown",
      "source": [
        "The last field is 'repos'. Let's find out from how many repos the each code stems:"
      ],
      "metadata": {
        "id": "KyKxHUN97Udd"
      }
    },
    {
      "cell_type": "code",
      "source": [
        "column_name = \"repos\"\n",
        "column_data = pd.Series([len(repos.split(\",\")) for repos in dataset[column_name]])\n",
        "value_counts = column_data.value_counts()\n",
        "print(value_counts)"
      ],
      "metadata": {
        "colab": {
          "base_uri": "https://localhost:8080/"
        },
        "id": "MEnC1w0K7nz6",
        "outputId": "6cdb3d84-16c2-4228-87b9-9004c08e5263"
      },
      "execution_count": 58,
      "outputs": [
        {
          "output_type": "stream",
          "name": "stdout",
          "text": [
            "1      15011\n",
            "2      11306\n",
            "3       6658\n",
            "4       6100\n",
            "5       2478\n",
            "       ...  \n",
            "813        1\n",
            "619        1\n",
            "576        1\n",
            "569        1\n",
            "391        1\n",
            "Length: 424, dtype: int64\n"
          ]
        }
      ]
    }
  ]
}