{
  "cells": [
    {
      "cell_type": "markdown",
      "metadata": {
        "id": "view-in-github",
        "colab_type": "text"
      },
      "source": [
        "<a href=\"https://colab.research.google.com/github/PioneerAlexander/Leveraging-software-evolution-data-with-LLMs/blob/main/Refact-1_6B_eval_colab.ipynb\" target=\"_parent\"><img src=\"https://colab.research.google.com/assets/colab-badge.svg\" alt=\"Open In Colab\"/></a>"
      ]
    },
    {
      "cell_type": "code",
      "source": [
        "import locale\n",
        "print(locale.getpreferredencoding())"
      ],
      "metadata": {
        "id": "elstUcUQUN_9",
        "outputId": "00578973-0774-4a15-e821-5699f36b9730",
        "colab": {
          "base_uri": "https://localhost:8080/"
        }
      },
      "id": "elstUcUQUN_9",
      "execution_count": 105,
      "outputs": [
        {
          "output_type": "stream",
          "name": "stdout",
          "text": [
            "ANSI_X3.4-1968\n"
          ]
        }
      ]
    },
    {
      "cell_type": "code",
      "source": [
        "def getpreferredencoding(do_setlocale = True):\n",
        "    return \"UTF-8\"\n",
        "locale.getpreferredencoding = getpreferredencoding"
      ],
      "metadata": {
        "id": "hPtIq_DcUPTt"
      },
      "id": "hPtIq_DcUPTt",
      "execution_count": 106,
      "outputs": []
    },
    {
      "cell_type": "code",
      "execution_count": 107,
      "outputs": [
        {
          "output_type": "stream",
          "name": "stdout",
          "text": [
            "Requirement already satisfied: datasets in /usr/local/lib/python3.10/dist-packages (2.16.0)\n",
            "Requirement already satisfied: filelock in /usr/local/lib/python3.10/dist-packages (from datasets) (3.13.1)\n",
            "Requirement already satisfied: numpy>=1.17 in /usr/local/lib/python3.10/dist-packages (from datasets) (1.23.5)\n",
            "Requirement already satisfied: pyarrow>=8.0.0 in /usr/local/lib/python3.10/dist-packages (from datasets) (10.0.1)\n",
            "Requirement already satisfied: pyarrow-hotfix in /usr/local/lib/python3.10/dist-packages (from datasets) (0.6)\n",
            "Requirement already satisfied: dill<0.3.8,>=0.3.0 in /usr/local/lib/python3.10/dist-packages (from datasets) (0.3.7)\n",
            "Requirement already satisfied: pandas in /usr/local/lib/python3.10/dist-packages (from datasets) (1.5.3)\n",
            "Requirement already satisfied: requests>=2.19.0 in /usr/local/lib/python3.10/dist-packages (from datasets) (2.31.0)\n",
            "Requirement already satisfied: tqdm>=4.62.1 in /usr/local/lib/python3.10/dist-packages (from datasets) (4.66.1)\n",
            "Requirement already satisfied: xxhash in /usr/local/lib/python3.10/dist-packages (from datasets) (3.4.1)\n",
            "Requirement already satisfied: multiprocess in /usr/local/lib/python3.10/dist-packages (from datasets) (0.70.15)\n",
            "Requirement already satisfied: fsspec[http]<=2023.10.0,>=2023.1.0 in /usr/local/lib/python3.10/dist-packages (from datasets) (2023.6.0)\n",
            "Requirement already satisfied: aiohttp in /usr/local/lib/python3.10/dist-packages (from datasets) (3.9.1)\n",
            "Requirement already satisfied: huggingface-hub>=0.19.4 in /usr/local/lib/python3.10/dist-packages (from datasets) (0.19.4)\n",
            "Requirement already satisfied: packaging in /usr/local/lib/python3.10/dist-packages (from datasets) (23.2)\n",
            "Requirement already satisfied: pyyaml>=5.1 in /usr/local/lib/python3.10/dist-packages (from datasets) (6.0.1)\n",
            "Requirement already satisfied: attrs>=17.3.0 in /usr/local/lib/python3.10/dist-packages (from aiohttp->datasets) (23.1.0)\n",
            "Requirement already satisfied: multidict<7.0,>=4.5 in /usr/local/lib/python3.10/dist-packages (from aiohttp->datasets) (6.0.4)\n",
            "Requirement already satisfied: yarl<2.0,>=1.0 in /usr/local/lib/python3.10/dist-packages (from aiohttp->datasets) (1.9.4)\n",
            "Requirement already satisfied: frozenlist>=1.1.1 in /usr/local/lib/python3.10/dist-packages (from aiohttp->datasets) (1.4.1)\n",
            "Requirement already satisfied: aiosignal>=1.1.2 in /usr/local/lib/python3.10/dist-packages (from aiohttp->datasets) (1.3.1)\n",
            "Requirement already satisfied: async-timeout<5.0,>=4.0 in /usr/local/lib/python3.10/dist-packages (from aiohttp->datasets) (4.0.3)\n",
            "Requirement already satisfied: typing-extensions>=3.7.4.3 in /usr/local/lib/python3.10/dist-packages (from huggingface-hub>=0.19.4->datasets) (4.5.0)\n",
            "Requirement already satisfied: charset-normalizer<4,>=2 in /usr/local/lib/python3.10/dist-packages (from requests>=2.19.0->datasets) (3.3.2)\n",
            "Requirement already satisfied: idna<4,>=2.5 in /usr/local/lib/python3.10/dist-packages (from requests>=2.19.0->datasets) (3.6)\n",
            "Requirement already satisfied: urllib3<3,>=1.21.1 in /usr/local/lib/python3.10/dist-packages (from requests>=2.19.0->datasets) (2.0.7)\n",
            "Requirement already satisfied: certifi>=2017.4.17 in /usr/local/lib/python3.10/dist-packages (from requests>=2.19.0->datasets) (2023.11.17)\n",
            "Requirement already satisfied: python-dateutil>=2.8.1 in /usr/local/lib/python3.10/dist-packages (from pandas->datasets) (2.8.2)\n",
            "Requirement already satisfied: pytz>=2020.1 in /usr/local/lib/python3.10/dist-packages (from pandas->datasets) (2023.3.post1)\n",
            "Requirement already satisfied: six>=1.5 in /usr/local/lib/python3.10/dist-packages (from python-dateutil>=2.8.1->pandas->datasets) (1.16.0)\n"
          ]
        }
      ],
      "source": [
        "!pip install datasets"
      ],
      "metadata": {
        "ExecuteTime": {
          "end_time": "2023-12-27T04:51:35.604136408Z",
          "start_time": "2023-12-27T04:47:32.188729676Z"
        },
        "colab": {
          "base_uri": "https://localhost:8080/"
        },
        "id": "af566ae1a28e48ca",
        "outputId": "531354f0-4fbf-4f6d-c2dc-683f9f1d46f8"
      },
      "id": "af566ae1a28e48ca"
    },
    {
      "cell_type": "code",
      "execution_count": 108,
      "id": "initial_id",
      "metadata": {
        "collapsed": true,
        "ExecuteTime": {
          "end_time": "2023-12-27T04:51:44.660520929Z",
          "start_time": "2023-12-27T04:51:39.159276854Z"
        },
        "id": "initial_id"
      },
      "outputs": [],
      "source": [
        "from datasets import load_dataset\n",
        "ds = load_dataset(\"bigcode/humanevalpack\", \"python\")['test']"
      ]
    },
    {
      "cell_type": "code",
      "execution_count": 109,
      "outputs": [],
      "source": [
        "# Load model directly\n",
        "from transformers import AutoModelForCausalLM, AutoTokenizer\n",
        "\n",
        "checkpoint = \"smallcloudai/Refact-1_6B-fim\"\n",
        "device = \"cuda\" # for GPU usage or \"cpu\" for CPU usage\n",
        "\n",
        "tokenizer = AutoTokenizer.from_pretrained(checkpoint)\n",
        "model = AutoModelForCausalLM.from_pretrained(checkpoint, trust_remote_code=True).to(device)"
      ],
      "metadata": {
        "is_executing": true,
        "ExecuteTime": {
          "start_time": "2023-12-27T04:51:46.025906798Z"
        },
        "id": "9372dff8fff5b7dc"
      },
      "id": "9372dff8fff5b7dc"
    },
    {
      "cell_type": "code",
      "source": [
        "prompt_template = \"<empty_output>SYSTEM {system}\\n\" \\\n",
        "                  \"<empty_output>USER {query}\\n\" \\\n",
        "                  \"<empty_output>ASSISTANT\\n\""
      ],
      "metadata": {
        "id": "MZxSyt9LWKmq"
      },
      "id": "MZxSyt9LWKmq",
      "execution_count": 119,
      "outputs": []
    },
    {
      "cell_type": "code",
      "source": [
        "def generate_prompt(system, task, with_tests=False):\n",
        "    query_template=\"Question: Fix the bugs in {entry_point}: \\n {import_desc} \\ndef {signature}: \" \\\n",
        "    \"\\n{buggy_solution} {test}\\nAnswer: \\n {import_desc} \\ndef {signature}: \\n\"\n",
        "    return prompt_template.format(system=system,\n",
        "                                  query=query_template.format(entry_point=task['entry_point'],\n",
        "                                                              import_desc=task['import'],\n",
        "                                                              signature=task['signature'],\n",
        "                                                              buggy_solution=task['buggy_solution'],\n",
        "                                                              test=task['test'] if with_tests else \"\"))"
      ],
      "metadata": {
        "id": "3vUXX1FoUpWN"
      },
      "id": "3vUXX1FoUpWN",
      "execution_count": 156,
      "outputs": []
    },
    {
      "cell_type": "code",
      "source": [
        "import re\n",
        "\n",
        "def get_model_answer(text: str) -> str:\n",
        "  pattern = r'<empty_output>ASSISTANT\\n(.*?)<empty_output>'\n",
        "\n",
        "  match = re.search(pattern, tokenizer.decode(outputs[0]), re.DOTALL)\n",
        "\n",
        "  return match.group(1) if match else \"\""
      ],
      "metadata": {
        "id": "XxO-8Coyo7vJ"
      },
      "id": "XxO-8Coyo7vJ",
      "execution_count": 166,
      "outputs": []
    },
    {
      "cell_type": "code",
      "source": [
        "import random\n",
        "\n",
        "def calculate_zero_shot_pass_metric(ds):\n",
        "\n",
        "    total_number = 20\n",
        "    correct_number = 0\n",
        "\n",
        "    ds_sample = random.choices(ds, k=total_number)\n",
        "\n",
        "    print([task['task_id'] for task in ds_sample])\n",
        "\n",
        "    for task_number, task in enumerate(ds_sample):\n",
        "      inputs = tokenizer.encode(generate_prompt(\"\", task, with_tests=True), return_tensors=\"pt\").to(device)\n",
        "      outputs = model.generate(inputs, max_length=10000, temperature=0.2, pad_token_id=tokenizer.eos_token_id)\n",
        "      code_with_tests = \"from typing import List\\n\" + get_model_answer(tokenizer.decode(outputs[0])) + task['test']\n",
        "      try:\n",
        "        exec(code_with_tests)\n",
        "        correct += 1\n",
        "      except:\n",
        "        pass\n",
        "      print(\"The iteration number: {number}. Correct answers: {correct_number}/{total_number}\\n\".format(number=task_number,\n",
        "                                                                                                        correct_number=correct_number,\n",
        "                                                                                                        total_number=total_number))\n",
        "\n",
        "    return correct_number / total_number\n",
        "\n",
        "print(calculate_zero_shot_pass_metric(ds))"
      ],
      "metadata": {
        "id": "cNFpknHHoehx",
        "outputId": "d90412b3-5fca-41a5-8374-38876fc69811",
        "colab": {
          "base_uri": "https://localhost:8080/",
          "height": 218
        }
      },
      "id": "cNFpknHHoehx",
      "execution_count": 1,
      "outputs": [
        {
          "output_type": "error",
          "ename": "NameError",
          "evalue": "ignored",
          "traceback": [
            "\u001b[0;31m---------------------------------------------------------------------------\u001b[0m",
            "\u001b[0;31mNameError\u001b[0m                                 Traceback (most recent call last)",
            "\u001b[0;32m<ipython-input-1-01d547042b3f>\u001b[0m in \u001b[0;36m<cell line: 27>\u001b[0;34m()\u001b[0m\n\u001b[1;32m     25\u001b[0m     \u001b[0;32mreturn\u001b[0m \u001b[0mcorrect_number\u001b[0m \u001b[0;34m/\u001b[0m \u001b[0mtotal_number\u001b[0m\u001b[0;34m\u001b[0m\u001b[0;34m\u001b[0m\u001b[0m\n\u001b[1;32m     26\u001b[0m \u001b[0;34m\u001b[0m\u001b[0m\n\u001b[0;32m---> 27\u001b[0;31m \u001b[0mprint\u001b[0m\u001b[0;34m(\u001b[0m\u001b[0mcalculate_zero_shot_pass_metric\u001b[0m\u001b[0;34m(\u001b[0m\u001b[0mds\u001b[0m\u001b[0;34m)\u001b[0m\u001b[0;34m)\u001b[0m\u001b[0;34m\u001b[0m\u001b[0;34m\u001b[0m\u001b[0m\n\u001b[0m",
            "\u001b[0;31mNameError\u001b[0m: name 'ds' is not defined"
          ]
        }
      ]
    },
    {
      "cell_type": "code",
      "source": [
        "inputs = tokenizer.encode(generate_prompt(\"\", ds[130], with_tests=True), return_tensors=\"pt\").to(device)\n",
        "outputs = model.generate(inputs, max_length=10000, temperature=0.2, pad_token_id=tokenizer.eos_token_id)\n",
        "print(\"-\"*80)\n",
        "print(tokenizer.decode(outputs[0]))\n",
        "code_with_tests = \"from typing import List\\n\" + get_model_answer(tokenizer.decode(outputs[0])) + ds[130]['test']\n",
        "exec(code_with_tests)\n",
        "try:\n",
        "    exec(code_with_tests)\n",
        "    correct += 1\n",
        "except:\n",
        "    pass\n",
        "print(correct)"
      ],
      "metadata": {
        "id": "rHJBYLs4Vp-6",
        "outputId": "2ebca8b9-de64-4a81-db76-e2192738c09f",
        "colab": {
          "base_uri": "https://localhost:8080/",
          "height": 1000
        }
      },
      "id": "rHJBYLs4Vp-6",
      "execution_count": 182,
      "outputs": [
        {
          "output_type": "stream",
          "name": "stdout",
          "text": [
            "--------------------------------------------------------------------------------\n",
            "<empty_output>SYSTEM \n",
            "<empty_output>USER Question: Fix the bugs in tri: \n",
            "  \n",
            "def tri(n): \n",
            "    if n == 0:\n",
            "        return [1]\n",
            "    my_tri = [1, 3]\n",
            "    for i in range(2, n + 1):\n",
            "        if i % 2 == 0:\n",
            "            my_tri.append(i / 2 + 1)\n",
            "        else:\n",
            "            my_tri.append(my_tri[i - 1] + my_tri[i - 2] + i + (i + 3) / 2)\n",
            "    return my_tri\n",
            " def check(tri):\n",
            "\n",
            "    # Check some simple cases\n",
            "    \n",
            "    assert tri(3) == [1, 3, 2.0, 8.0]\n",
            "    assert tri(4) == [1, 3, 2.0, 8.0, 3.0]\n",
            "    assert tri(5) == [1, 3, 2.0, 8.0, 3.0, 15.0]\n",
            "    assert tri(6) == [1, 3, 2.0, 8.0, 3.0, 15.0, 4.0]\n",
            "    assert tri(7) == [1, 3, 2.0, 8.0, 3.0, 15.0, 4.0, 24.0]\n",
            "    assert tri(8) == [1, 3, 2.0, 8.0, 3.0, 15.0, 4.0, 24.0, 5.0]\n",
            "    assert tri(9) == [1, 3, 2.0, 8.0, 3.0, 15.0, 4.0, 24.0, 5.0, 35.0]\n",
            "    assert tri(20) == [1, 3, 2.0, 8.0, 3.0, 15.0, 4.0, 24.0, 5.0, 35.0, 6.0, 48.0, 7.0, 63.0, 8.0, 80.0, 9.0, 99.0, 10.0, 120.0, 11.0]\n",
            "\n",
            "    # Check some edge cases that are easy to work out by hand.\n",
            "    assert tri(0) == [1]\n",
            "    assert tri(1) == [1, 3]\n",
            "\n",
            "check(tri)\n",
            "Answer: \n",
            "  \n",
            "def tri(n): \n",
            "\n",
            "<empty_output>ASSISTANT\n",
            "def tri(n): \n",
            "    if n == 0:\n",
            "        return [1]\n",
            "    my_tri = [1, 3]\n",
            "    for i in range(2, n + 1):\n",
            "        if i % 2 == 0:\n",
            "            my_tri.append(i / 2 + 1)\n",
            "        else:\n",
            "            my_tri.append(my_tri[i - 1] + my_tri[i - 2] + i + (i + 3) / 2)\n",
            "    return my_tri\n",
            "\n",
            "def check(tri):\n",
            "\n",
            "    # Check some simple cases\n",
            "    \n",
            "    assert tri(3) == [1, 3, 2.0, 8.0]\n",
            "    assert tri(4) == [1, 3, 2.0, 8.0, 3.0]\n",
            "    assert tri(5) == [1, 3, 2.0, 8.0, 3.0, 15.0]\n",
            "    assert tri(6) == [1, 3, 2.0, 8.0, 3.0, 15.0, 4.0]\n",
            "    assert tri(7) == [1, 3, 2.0, 8.0, 3.0, 15.0, 4.0, 24.0]\n",
            "    assert tri(8) == [1, 3, 2.0, 8.0, 3.0, 15.0, 4.0, 24.0, 5.0]\n",
            "    assert tri(9) == [1, 3, 2.0, 8.0, 3.0, 15.0, 4.0, 24.0, 5.0, 35.0]\n",
            "    assert tri(20) == [1, 3, 2.0, 8.0, 3.0, 15.0, 4.0, 24.0, 5.0, 35.0, 6.0, 48.0, 7.0, 63.0, 8.0, 80.0, 9.0, 99.0, 10.0, 120.0, 11.0]\n",
            "\n",
            "    # Check some edge cases that are easy to work out by hand.\n",
            "    assert tri(0) == [1]\n",
            "    assert tri(1) == [1, 3]\n",
            "\n",
            "check(tri)\n",
            "<empty_output><|endoftext|>\n"
          ]
        },
        {
          "output_type": "error",
          "ename": "AssertionError",
          "evalue": "ignored",
          "traceback": [
            "\u001b[0;31m---------------------------------------------------------------------------\u001b[0m",
            "\u001b[0;31mAssertionError\u001b[0m                            Traceback (most recent call last)",
            "\u001b[0;32m<ipython-input-182-081a47be1a62>\u001b[0m in \u001b[0;36m<cell line: 6>\u001b[0;34m()\u001b[0m\n\u001b[1;32m      4\u001b[0m \u001b[0mprint\u001b[0m\u001b[0;34m(\u001b[0m\u001b[0mtokenizer\u001b[0m\u001b[0;34m.\u001b[0m\u001b[0mdecode\u001b[0m\u001b[0;34m(\u001b[0m\u001b[0moutputs\u001b[0m\u001b[0;34m[\u001b[0m\u001b[0;36m0\u001b[0m\u001b[0;34m]\u001b[0m\u001b[0;34m)\u001b[0m\u001b[0;34m)\u001b[0m\u001b[0;34m\u001b[0m\u001b[0;34m\u001b[0m\u001b[0m\n\u001b[1;32m      5\u001b[0m \u001b[0mcode_with_tests\u001b[0m \u001b[0;34m=\u001b[0m \u001b[0;34m\"from typing import List\\n\"\u001b[0m \u001b[0;34m+\u001b[0m \u001b[0mget_model_answer\u001b[0m\u001b[0;34m(\u001b[0m\u001b[0mtokenizer\u001b[0m\u001b[0;34m.\u001b[0m\u001b[0mdecode\u001b[0m\u001b[0;34m(\u001b[0m\u001b[0moutputs\u001b[0m\u001b[0;34m[\u001b[0m\u001b[0;36m0\u001b[0m\u001b[0;34m]\u001b[0m\u001b[0;34m)\u001b[0m\u001b[0;34m)\u001b[0m \u001b[0;34m+\u001b[0m \u001b[0mds\u001b[0m\u001b[0;34m[\u001b[0m\u001b[0;36m130\u001b[0m\u001b[0;34m]\u001b[0m\u001b[0;34m[\u001b[0m\u001b[0;34m'test'\u001b[0m\u001b[0;34m]\u001b[0m\u001b[0;34m\u001b[0m\u001b[0;34m\u001b[0m\u001b[0m\n\u001b[0;32m----> 6\u001b[0;31m \u001b[0mexec\u001b[0m\u001b[0;34m(\u001b[0m\u001b[0mcode_with_tests\u001b[0m\u001b[0;34m)\u001b[0m\u001b[0;34m\u001b[0m\u001b[0;34m\u001b[0m\u001b[0m\n\u001b[0m\u001b[1;32m      7\u001b[0m \u001b[0;32mtry\u001b[0m\u001b[0;34m:\u001b[0m\u001b[0;34m\u001b[0m\u001b[0;34m\u001b[0m\u001b[0m\n\u001b[1;32m      8\u001b[0m     \u001b[0mexec\u001b[0m\u001b[0;34m(\u001b[0m\u001b[0mcode_with_tests\u001b[0m\u001b[0;34m)\u001b[0m\u001b[0;34m\u001b[0m\u001b[0;34m\u001b[0m\u001b[0m\n",
            "\u001b[0;32m<string>\u001b[0m in \u001b[0;36m<module>\u001b[0;34m\u001b[0m\n",
            "\u001b[0;32m<string>\u001b[0m in \u001b[0;36mcheck\u001b[0;34m(tri)\u001b[0m\n",
            "\u001b[0;31mAssertionError\u001b[0m: "
          ]
        }
      ]
    },
    {
      "cell_type": "code",
      "source": [
        "print(ds[2]['canonical_solution'])"
      ],
      "metadata": {
        "id": "t9UHXY5Kc6TD",
        "outputId": "a7d6a508-c9ae-48e6-ef3b-74ed89132eae",
        "colab": {
          "base_uri": "https://localhost:8080/"
        }
      },
      "id": "t9UHXY5Kc6TD",
      "execution_count": 129,
      "outputs": [
        {
          "output_type": "stream",
          "name": "stdout",
          "text": [
            "    return number % 1.0\n",
            "\n"
          ]
        }
      ]
    },
    {
      "cell_type": "code",
      "source": [
        "\n",
        "correct = 0\n",
        "\n",
        "exec(\"from typing import List\\n\" + result + ds[130]['test'])\n",
        "try:\n",
        "  exec(\"from typing import List\\n\" + result + ds[0]['test'])\n",
        "  correct += 1\n",
        "except:\n",
        "  pass\n",
        "print(correct)"
      ],
      "metadata": {
        "id": "W-YJIT67iCku",
        "outputId": "a966ee61-99f8-4fea-c6f7-40770bed206b",
        "colab": {
          "base_uri": "https://localhost:8080/"
        }
      },
      "id": "W-YJIT67iCku",
      "execution_count": 162,
      "outputs": [
        {
          "output_type": "stream",
          "name": "stdout",
          "text": [
            "def has_close_elements(numbers: List[float], threshold: float) -> bool: \n",
            "    for idx, elem in enumerate(numbers):\n",
            "        for idx2, elem2 in enumerate(numbers):\n",
            "            if idx!= idx2:\n",
            "                distance = abs(elem - elem2)\n",
            "                if distance < threshold:\n",
            "                    return True\n",
            "\n",
            "    return False\n",
            " \n",
            "\n",
            "\n",
            "\n",
            "\n",
            "def check(has_close_elements):\n",
            "    assert has_close_elements([1.0, 2.0, 3.9, 4.0, 5.0, 2.2], 0.3) == True\n",
            "    assert has_close_elements([1.0, 2.0, 3.9, 4.0, 5.0, 2.2], 0.05) == False\n",
            "    assert has_close_elements([1.0, 2.0, 5.9, 4.0, 5.0], 0.95) == True\n",
            "    assert has_close_elements([1.0, 2.0, 5.9, 4.0, 5.0], 0.8) == False\n",
            "    assert has_close_elements([1.0, 2.0, 3.0, 4.0, 5.0, 2.0], 0.1) == True\n",
            "    assert has_close_elements([1.1, 2.2, 3.1, 4.1, 5.1], 1.0) == True\n",
            "    assert has_close_elements([1.1, 2.2, 3.1, 4.1, 5.1], 0.5) == False\n",
            "\n",
            "check(has_close_elements)\n",
            "\n",
            "1\n"
          ]
        }
      ]
    }
  ],
  "metadata": {
    "kernelspec": {
      "display_name": "Python 3",
      "name": "python3"
    },
    "language_info": {
      "codemirror_mode": {
        "name": "ipython",
        "version": 2
      },
      "file_extension": ".py",
      "mimetype": "text/x-python",
      "name": "python",
      "nbconvert_exporter": "python",
      "pygments_lexer": "ipython2",
      "version": "2.7.6"
    },
    "colab": {
      "provenance": [],
      "gpuType": "T4",
      "include_colab_link": true
    },
    "accelerator": "GPU"
  },
  "nbformat": 4,
  "nbformat_minor": 5
}